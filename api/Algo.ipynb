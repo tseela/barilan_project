{
 "cells": [
  {
   "cell_type": "code",
   "execution_count": 2,
   "id": "64e8d02e",
   "metadata": {},
   "outputs": [],
   "source": [
    "import classes\n",
    "import random\n",
    "import flights\n",
    "from amadeus import Client, ResponseError\n",
    "from hotels1 import hotelFunctions\n",
    "import amadeus\n",
    "#import api\n",
    "import hotels1\n",
    "import hotelTests\n",
    "import transport\n",
    "from transport import transportFunctions\n",
    "from transport import getNZfromCity\n",
    "import datetime"
   ]
  },
  {
   "cell_type": "code",
   "execution_count": 3,
   "id": "e2d54eb0",
   "metadata": {},
   "outputs": [],
   "source": [
    "amadeus = Client(\n",
    "        client_id='CGwOmHn7cmfAIuUcbqUiaPC5LAyAvwAG',\n",
    "        client_secret='rKvILHDsjxcCh6yq'\n",
    "    )\n",
    "hotel = hotelFunctions(amadeus)"
   ]
  },
  {
   "cell_type": "code",
   "execution_count": 4,
   "id": "4ebe0ad1",
   "metadata": {},
   "outputs": [
    {
     "name": "stdout",
     "output_type": "stream",
     "text": [
      "Those are it: 'media'\n"
     ]
    }
   ],
   "source": [
    "hotels = hotel.getHotelsByGeocode(getNZfromCity('London')[0], getNZfromCity('London')[1])"
   ]
  },
  {
   "cell_type": "code",
   "execution_count": 5,
   "id": "3ae42683",
   "metadata": {
    "scrolled": true
   },
   "outputs": [
    {
     "name": "stdout",
     "output_type": "stream",
     "text": [
      "{'Duration': None, 'Cost': 189.0, 'Times:': ['2022-06-20', '2022-06-21'], 'Title': 'HOLIDAY INN EXP SOUTHWARK ST', 'Dest': '51.5061,-0.10144'}\n",
      "{'Duration': None, 'Cost': 177.63, 'Times:': ['2022-06-20', '2022-06-21'], 'Title': 'London Blackfriars', 'Dest': '51.5131,-0.10561'}\n",
      "{'Duration': None, 'Cost': 181.63, 'Times:': ['2022-06-20', '2022-06-21'], 'Title': 'London Waterloo', 'Dest': '51.50329,-0.11521'}\n",
      "{'Duration': None, 'Cost': 413.0, 'Times:': ['2022-06-20', '2022-06-21'], 'Title': 'Andaz Liverpool Street London', 'Dest': '51.51651,-0.08191'}\n",
      "{'Duration': None, 'Cost': 349.0, 'Times:': ['2022-06-20', '2022-06-21'], 'Title': 'THE WALDORF HILTON', 'Dest': '51.51264,-0.11937'}\n",
      "{'Duration': None, 'Cost': 349.0, 'Times:': ['2022-06-20', '2022-06-21'], 'Title': 'DOUBLETREE TOWER OF LONDON', 'Dest': '51.51091,-0.07849'}\n",
      "{'Duration': None, 'Cost': 145.63, 'Times:': ['2022-06-20', '2022-06-21'], 'Title': 'London Tower Bridge', 'Dest': '51.50003,-0.0815'}\n",
      "{'Duration': None, 'Cost': 213.63, 'Times:': ['2022-06-20', '2022-06-21'], 'Title': 'London County Hall', 'Dest': '51.50147,-0.11876'}\n",
      "{'Duration': None, 'Cost': 379.0, 'Times:': ['2022-06-20', '2022-06-21'], 'Title': 'DOUBLETREE LONDON WEST END', 'Dest': '51.51985,-0.12213'}\n",
      "{'Duration': None, 'Cost': 82.86, 'Times:': ['2022-06-20', '2022-06-21'], 'Title': 'ibis London City - Shoreditch', 'Dest': '51.51534,-0.07197'}\n",
      "{'Duration': None, 'Cost': 262.8, 'Times:': ['2022-06-20', '2022-06-21'], 'Title': 'GRANGE CLARENDON', 'Dest': '51.51967,-0.12371'}\n",
      "{'Duration': None, 'Cost': 204.98, 'Times:': ['2022-06-20', '2022-06-21'], 'Title': 'GRANGE WHITE HALL', 'Dest': '51.5191,-0.1246'}\n"
     ]
    }
   ],
   "source": [
    "for i in hotels:\n",
    "    print(i)"
   ]
  },
  {
   "cell_type": "code",
   "execution_count": 9,
   "id": "2dcbd141",
   "metadata": {},
   "outputs": [],
   "source": [
    "transport = transportFunctions()\n",
    "transports = transport.getTransport(51.5061,-0.10144,51.2191,-0.1246)\n"
   ]
  },
  {
   "cell_type": "code",
   "execution_count": 10,
   "id": "d221adb2",
   "metadata": {},
   "outputs": [
    {
     "name": "stdout",
     "output_type": "stream",
     "text": [
      "{'Duration': datetime.timedelta(seconds=1080), 'Cost': 0, 'Times:': [datetime.datetime(2022, 6, 20, 22, 35), datetime.datetime(2022, 6, 20, 22, 53)], 'Title': 'pedestrian', 'Dest': '51.505327,-0.086886'}\n",
      "{'Duration': datetime.timedelta(seconds=60), 'Cost': 0, 'Times:': [datetime.datetime(2022, 6, 20, 22, 53), datetime.datetime(2022, 6, 20, 22, 54)], 'Title': 'pedestrian', 'Dest': '51.50511,-0.08609'}\n",
      "{'Duration': datetime.timedelta(seconds=2040), 'Cost': None, 'Times:': [datetime.datetime(2022, 6, 20, 22, 54), datetime.datetime(2022, 6, 20, 23, 28)], 'Title': 'regionalTrain', 'Dest': '51.19141,0.27097'}\n",
      "{'Duration': datetime.timedelta(seconds=1620), 'Cost': None, 'Times:': [datetime.datetime(2022, 6, 20, 23, 36), datetime.datetime(2022, 6, 21, 0, 3)], 'Title': 'regionalTrain', 'Dest': '51.22681,-0.13253'}\n",
      "{'Duration': datetime.timedelta(seconds=60), 'Cost': 0, 'Times:': [datetime.datetime(2022, 6, 21, 0, 3), datetime.datetime(2022, 6, 21, 0, 4)], 'Title': 'pedestrian', 'Dest': '51.226568,-0.132512'}\n",
      "{'Duration': datetime.timedelta(seconds=1740), 'Cost': 0, 'Times:': [datetime.datetime(2022, 6, 21, 0, 4), datetime.datetime(2022, 6, 21, 0, 33)], 'Title': 'pedestrian', 'Dest': '51.2191,-0.1246'}\n"
     ]
    }
   ],
   "source": [
    "for i in transports:\n",
    "    print(i)"
   ]
  },
  {
   "cell_type": "code",
   "execution_count": 11,
   "id": "637dd6ab",
   "metadata": {},
   "outputs": [],
   "source": [
    "attractions = hotel.getActivities(32.079664, 34.767410, 2)"
   ]
  },
  {
   "cell_type": "code",
   "execution_count": 12,
   "id": "c14e5015",
   "metadata": {},
   "outputs": [
    {
     "name": "stdout",
     "output_type": "stream",
     "text": [
      "{'Duration': None, 'Cost': 25.0, 'Times:': [None, None], 'Title': 'Tel Aviv Pub Crawl', 'Dest': '32.075996,34.766022'}\n",
      "{'Duration': None, 'Cost': 96.0, 'Times:': [None, None], 'Title': 'From Jerusalem: Masada and Dead Sea Tour', 'Dest': '32.075565,34.767686'}\n",
      "{'Duration': None, 'Cost': 34.0, 'Times:': [None, None], 'Title': 'Tel Aviv: Street Food Tour', 'Dest': '32.077840,34.777979'}\n",
      "{'Duration': None, 'Cost': 80.0, 'Times:': [None, None], 'Title': 'Jerusalem Day Tour from Tel Aviv', 'Dest': '32.073954,34.765815'}\n",
      "{'Duration': None, 'Cost': 65.0, 'Times:': [None, None], 'Title': 'Tel Aviv: Jerusalem Old City Late Morning Tour', 'Dest': '32.074602,34.768443'}\n",
      "{'Duration': None, 'Cost': 53.0, 'Times:': [None, None], 'Title': 'Tel Aviv: Private Group Guided Bike Tour', 'Dest': '32.074815,34.767932'}\n"
     ]
    }
   ],
   "source": [
    "for i in attractions:\n",
    "    print(i)"
   ]
  },
  {
   "cell_type": "code",
   "execution_count": 13,
   "id": "889828af",
   "metadata": {},
   "outputs": [],
   "source": [
    "def chooseCheapestHotel(hotels):\n",
    "    lowest = 1000000\n",
    "    index = 0\n",
    "    for i in range(0, len(hotels)):\n",
    "        if (hotels[i].cost < lowest):\n",
    "            index = i\n",
    "            lowest = hotels[i].cost\n",
    "    return hotels[index]\n",
    "def chooseMostLuxuriousHotel(hotels):\n",
    "    highest = 0\n",
    "    index = 0\n",
    "    for i in range(0, len(hotels)):\n",
    "        if (hotels[i].cost > highest):\n",
    "            index = i\n",
    "            highest = hotels[i].cost\n",
    "    return hotels[index]"
   ]
  },
  {
   "cell_type": "code",
   "execution_count": 46,
   "id": "3365c44e",
   "metadata": {},
   "outputs": [
    {
     "ename": "IndexError",
     "evalue": "list index out of range",
     "output_type": "error",
     "traceback": [
      "\u001b[1;31m---------------------------------------------------------------------------\u001b[0m",
      "\u001b[1;31mIndexError\u001b[0m                                Traceback (most recent call last)",
      "\u001b[1;32mC:\\Users\\RONZAM~1\\AppData\\Local\\Temp/ipykernel_1540/1726830235.py\u001b[0m in \u001b[0;36m<module>\u001b[1;34m\u001b[0m\n\u001b[0;32m     25\u001b[0m     \u001b[0mchoosenHotel\u001b[0m \u001b[1;33m=\u001b[0m \u001b[0mchooseCheapestHotel\u001b[0m\u001b[1;33m(\u001b[0m\u001b[0mhotels\u001b[0m\u001b[1;33m)\u001b[0m\u001b[1;33m\u001b[0m\u001b[1;33m\u001b[0m\u001b[0m\n\u001b[0;32m     26\u001b[0m \u001b[1;32melif\u001b[0m \u001b[1;33m(\u001b[0m\u001b[0mluxury\u001b[0m\u001b[1;33m)\u001b[0m\u001b[1;33m:\u001b[0m\u001b[1;33m\u001b[0m\u001b[1;33m\u001b[0m\u001b[0m\n\u001b[1;32m---> 27\u001b[1;33m     \u001b[0mchoosenHotel\u001b[0m \u001b[1;33m=\u001b[0m \u001b[0mchooseMostLuxuriousHotel\u001b[0m\u001b[1;33m(\u001b[0m\u001b[0mhotels\u001b[0m\u001b[1;33m)\u001b[0m\u001b[1;33m\u001b[0m\u001b[1;33m\u001b[0m\u001b[0m\n\u001b[0m\u001b[0;32m     28\u001b[0m \u001b[1;32melse\u001b[0m\u001b[1;33m:\u001b[0m\u001b[1;33m\u001b[0m\u001b[1;33m\u001b[0m\u001b[0m\n\u001b[0;32m     29\u001b[0m     \u001b[0mchoosenHotel\u001b[0m \u001b[1;33m=\u001b[0m \u001b[0mrandom\u001b[0m\u001b[1;33m.\u001b[0m\u001b[0mchoice\u001b[0m\u001b[1;33m(\u001b[0m\u001b[0mhotels\u001b[0m\u001b[1;33m)\u001b[0m\u001b[1;33m\u001b[0m\u001b[1;33m\u001b[0m\u001b[0m\n",
      "\u001b[1;32mC:\\Users\\RONZAM~1\\AppData\\Local\\Temp/ipykernel_1540/3422048036.py\u001b[0m in \u001b[0;36mchooseMostLuxuriousHotel\u001b[1;34m(hotels)\u001b[0m\n\u001b[0;32m     14\u001b[0m             \u001b[0mindex\u001b[0m \u001b[1;33m=\u001b[0m \u001b[0mi\u001b[0m\u001b[1;33m\u001b[0m\u001b[1;33m\u001b[0m\u001b[0m\n\u001b[0;32m     15\u001b[0m             \u001b[0mhighest\u001b[0m \u001b[1;33m=\u001b[0m \u001b[0mhotels\u001b[0m\u001b[1;33m[\u001b[0m\u001b[0mi\u001b[0m\u001b[1;33m]\u001b[0m\u001b[1;33m.\u001b[0m\u001b[0mcost\u001b[0m\u001b[1;33m\u001b[0m\u001b[1;33m\u001b[0m\u001b[0m\n\u001b[1;32m---> 16\u001b[1;33m     \u001b[1;32mreturn\u001b[0m \u001b[0mhotels\u001b[0m\u001b[1;33m[\u001b[0m\u001b[0mindex\u001b[0m\u001b[1;33m]\u001b[0m\u001b[1;33m\u001b[0m\u001b[1;33m\u001b[0m\u001b[0m\n\u001b[0m",
      "\u001b[1;31mIndexError\u001b[0m: list index out of range"
     ]
    }
   ],
   "source": [
    "lowCost = False\n",
    "luxury = True\n",
    "#shoomerShabat = False\n",
    "tripPeople = 4\n",
    "duration = 4\n",
    "museumOriented = True\n",
    "fastPaced = True\n",
    "usedAttractions = []\n",
    "maxPrice = 10000\n",
    "priceCapLeft = 10000 # maybe add mostCentralLocation implementation later\n",
    "amadeus = Client(\n",
    "    client_id='CGwOmHn7cmfAIuUcbqUiaPC5LAyAvwAG',\n",
    "    client_secret='rKvILHDsjxcCh6yq'\n",
    ")\n",
    "city = \"Tel Aviv\"\n",
    "hotel = hotelFunctions(amadeus)\n",
    "transport = transportFunctions()\n",
    "#print(city)\n",
    "#print(getNZfromCity(city))\n",
    "hotels = hotel.getHotelsByGeocode(getNZfromCity(city)[0], getNZfromCity(city)[1])\n",
    "for i in hotels:\n",
    "    print(i)\n",
    "choosenHotel = None\n",
    "if (lowCost):\n",
    "    choosenHotel = chooseCheapestHotel(hotels)\n",
    "elif (luxury):\n",
    "    choosenHotel = chooseMostLuxuriousHotel(hotels)\n",
    "else:\n",
    "    choosenHotel = random.choice(hotels)\n",
    "print(choosenHotel)"
   ]
  },
  {
   "cell_type": "code",
   "execution_count": 15,
   "id": "5f958ea4",
   "metadata": {},
   "outputs": [],
   "source": [
    "def cleanUsedAttractions(attractions, usedAttractions):\n",
    "    newAttractionList = []\n",
    "    for i in attractions:\n",
    "        if (i.title.lower() in usedAttractions):\n",
    "            continue\n",
    "        newAttractionList.append(i)\n",
    "    return newAttractionList"
   ]
  },
  {
   "cell_type": "code",
   "execution_count": 43,
   "id": "d191f107",
   "metadata": {},
   "outputs": [],
   "source": [
    "transport = transportFunctions()\n",
    "def planFullDay(tripPeople, luxury, lowCost, museumOriented, \n",
    "                fastPaced, priceCapLeft, attractionObject, transportObject, hotel, usedAttractions, date):\n",
    "    xCoord = hotel.destination.split(',')\n",
    "    originalYCoord = float(xCoord[1])\n",
    "    originalXCoord = float(xCoord[0])\n",
    "    xCoord = originalXCoord\n",
    "    yCoord = originalYCoord\n",
    "    print(xCoord, yCoord)\n",
    "    attractions = [] # maybe add most_central_location implementation later\n",
    "    while (attractions == [] or len(attractions) < 3):\n",
    "        attractions = attractionObject.getActivities(xCoord, yCoord, 10)\n",
    "        attractions = cleanUsedAttractions(attractions, usedAttractions)\n",
    "        noise = (random.random() - 0.5) * 0.4\n",
    "        xCoord += noise\n",
    "        yCoord += noise\n",
    "    attractionOptions = []\n",
    "    for i in attractions:\n",
    "        print(i)\n",
    "    if (museumOriented):\n",
    "        for i in attractions:\n",
    "            if ('museum' in i.title.lower()):\n",
    "                attractionOptions.append(i)\n",
    "        if (attractionOptions == []):\n",
    "            attractionOptions = attractions\n",
    "            noise = (random.random() - 0.5) * 0.2\n",
    "            xCoord += noise\n",
    "            yCoord += noise\n",
    "    else:\n",
    "        attractionOptions = attractions\n",
    "    if (lowCost):\n",
    "        attractionOptions.sort(key=lambda x: x.cost)\n",
    "    elif (luxury):\n",
    "        attractionOptions.sort(key=lambda x: x.cost, reverse=True)\n",
    "    day, usedAttractions = planDay(fastPaced, attractionOptions, transportObject, originalXCoord, originalYCoord, date, usedAttractions)"
   ]
  },
  {
   "cell_type": "code",
   "execution_count": 44,
   "id": "d9577a22",
   "metadata": {},
   "outputs": [],
   "source": [
    "date = datetime.datetime.now()\n",
    "date = date.replace(minute=59, hour=23, second=59, year=2022, month=7, day=1)"
   ]
  },
  {
   "cell_type": "code",
   "execution_count": 45,
   "id": "9d03bfdf",
   "metadata": {},
   "outputs": [
    {
     "name": "stdout",
     "output_type": "stream",
     "text": [
      "32.07979 34.76793\n",
      "{'Duration': None, 'Cost': 25.0, 'Times:': [None, None], 'Title': 'Tel Aviv Pub Crawl', 'Dest': '32.075996,34.766022'}\n",
      "{'Duration': None, 'Cost': 96.0, 'Times:': [None, None], 'Title': 'From Jerusalem: Masada and Dead Sea Tour', 'Dest': '32.075565,34.767686'}\n",
      "{'Duration': None, 'Cost': 34.0, 'Times:': [None, None], 'Title': 'Tel Aviv: Street Food Tour', 'Dest': '32.077840,34.777979'}\n",
      "{'Duration': None, 'Cost': 80.0, 'Times:': [None, None], 'Title': 'Jerusalem Day Tour from Tel Aviv', 'Dest': '32.073954,34.765815'}\n",
      "{'Duration': None, 'Cost': 65.0, 'Times:': [None, None], 'Title': 'Tel Aviv: Jerusalem Old City Late Morning Tour', 'Dest': '32.074602,34.768443'}\n",
      "{'Duration': None, 'Cost': 53.0, 'Times:': [None, None], 'Title': 'Tel Aviv: Private Group Guided Bike Tour', 'Dest': '32.074815,34.767932'}\n",
      "THE DATE IS: 2022-07-01 09:00:00.197191\n",
      "32.07979 34.76793 32.075565 34.767686 2022-07-01T09:00:00.197191\n",
      "{'routes': [{'id': 'C0', 'sections': [{'id': 'C0-S0', 'type': 'pedestrian', 'departure': {'time': '2022-07-01T09:00:00+03:00', 'place': {'type': 'place', 'location': {'lat': 32.07979, 'lng': 34.76793}}}, 'arrival': {'time': '2022-07-01T09:05:00+03:00', 'place': {'name': 'Bugrashov Beach/Promenade', 'type': 'station', 'location': {'lat': 32.078216, 'lng': 34.766845}, 'id': '415801428', 'code': '20656'}}, 'transport': {'mode': 'pedestrian'}}, {'id': 'C0-S1', 'type': 'transit', 'departure': {'time': '2022-07-01T09:05:00+03:00', 'place': {'name': 'Bugrashov Beach/Promenade', 'type': 'station', 'location': {'lat': 32.078216, 'lng': 34.766845}, 'id': '415801428', 'code': '20656'}}, 'arrival': {'time': '2022-07-01T09:10:00+03:00', 'place': {'name': 'HaYarkon/Yona HaNavi', 'type': 'station', 'location': {'lat': 32.073094, 'lng': 34.76607}, 'id': '415809574', 'code': '20095'}}, 'transport': {'mode': 'bus', 'name': '4', 'category': 'Bus', 'headsign': 'HaTayasim Terminal', 'shortName': '4', 'longName': 'מסוף רדינג/רציפים-תל אביב יפו<->מסוף הטייסים-תל אביב יפו-10'}, 'agency': {'id': '24266_ef2d127', 'name': 'דן', 'website': 'http://www.dan.co.il'}}, {'id': 'C0-S2', 'type': 'pedestrian', 'departure': {'time': '2022-07-01T09:10:00+03:00', 'place': {'name': 'HaYarkon/Yona HaNavi', 'type': 'station', 'location': {'lat': 32.073094, 'lng': 34.76607}, 'id': '415809574', 'code': '20095'}}, 'arrival': {'time': '2022-07-01T09:16:00+03:00', 'place': {'type': 'place', 'location': {'lat': 32.075565, 'lng': 34.767686}}}, 'transport': {'mode': 'pedestrian'}}]}, {'id': '52c15f34-783b-4572-b2b6-99e557fe48cc', 'sections': [{'id': '420075c9-c5a8-4396-8dcc-4f883a50b0e4', 'type': 'pedestrian', 'departure': {'time': '2022-07-01T09:00:00+03:00', 'place': {'type': 'place', 'location': {'lat': 32.0799599, 'lng': 34.7679381}}}, 'arrival': {'time': '2022-07-01T09:11:05+03:00', 'place': {'type': 'place', 'location': {'lat': 32.0754568, 'lng': 34.7676819}}}, 'transport': {'mode': 'pedestrian'}}]}]}\n",
      "{'Duration': datetime.timedelta(seconds=300), 'Cost': 0, 'Times:': [datetime.datetime(2022, 7, 1, 9, 0), datetime.datetime(2022, 7, 1, 9, 5)], 'Title': 'pedestrian', 'Dest': '32.078216,34.766845'}\n",
      "[<classes.Transport object at 0x000002CC2904DBE0>, <classes.Transport object at 0x000002CC28C9D130>, <classes.Transport object at 0x000002CC2A0D9070>]\n",
      "32.075565 34.767686 32.073954 34.765815 2022-07-01T13:21:00\n",
      "{'notices': [{'title': 'Departure and arrival locations are too close', 'code': 'departureArrivalTooClose'}, {'title': 'Transit route between origin and destination is not possible given current input parameters', 'code': 'noTransitRouteFound'}], 'routes': [{'id': '7f1ab88b-1033-430c-9d66-ed50a937300b', 'sections': [{'id': 'ad1af76a-25f5-4782-82c2-5c8addf2d639', 'type': 'pedestrian', 'departure': {'time': '2022-07-01T13:21:00+03:00', 'place': {'type': 'place', 'location': {'lat': 32.0754568, 'lng': 34.7676819}}}, 'arrival': {'time': '2022-07-01T13:26:15+03:00', 'place': {'type': 'place', 'location': {'lat': 32.0742493, 'lng': 34.76592}}}, 'transport': {'mode': 'pedestrian'}}]}]}\n",
      "{'Duration': datetime.timedelta(seconds=315), 'Cost': 0, 'Times:': [datetime.datetime(2022, 7, 1, 13, 21), datetime.datetime(2022, 7, 1, 13, 26, 15)], 'Title': 'pedestrian', 'Dest': '32.0742493,34.76592'}\n",
      "[<classes.Transport object at 0x000002CC29024100>]\n",
      "The date at the end is 2022-07-01 17:31:15\n",
      "{'routes': [{'id': 'C0', 'sections': [{'id': 'C0-S0', 'type': 'pedestrian', 'departure': {'time': '2022-07-02T18:31:00+03:00', 'place': {'type': 'place', 'location': {'lat': 32.073954, 'lng': 34.765815}}}, 'arrival': {'time': '2022-07-02T18:33:00+03:00', 'place': {'name': 'HaYarkon/Allenby', 'type': 'station', 'location': {'lat': 32.073731, 'lng': 34.766306}, 'id': '415801426', 'code': '20658'}}, 'transport': {'mode': 'pedestrian'}}, {'id': 'C0-S1', 'type': 'transit', 'departure': {'time': '2022-07-02T18:33:00+03:00', 'place': {'name': 'HaYarkon/Allenby', 'type': 'station', 'location': {'lat': 32.073731, 'lng': 34.766306}, 'id': '415801426', 'code': '20658'}}, 'arrival': {'time': '2022-07-02T18:34:00+03:00', 'place': {'name': 'HaYarkon/Trumpeldor', 'type': 'station', 'location': {'lat': 32.07536, 'lng': 34.766633}, 'id': '415801427', 'code': '20657'}}, 'transport': {'mode': 'bus', 'name': '66', 'category': 'Bus', 'headsign': 'פתח תקווה_תחנה מרכזית', 'shortName': '66', 'longName': \"מסוף כרמלית-תל אביב יפו<->ת. מרכזית פ''ת/רציפים עירוני-פתח תקווה-20\"}, 'agency': {'id': '24266_ef2d127', 'name': 'דן', 'website': 'http://www.dan.co.il'}}, {'id': 'C0-S2', 'type': 'pedestrian', 'departure': {'time': '2022-07-02T18:34:00+03:00', 'place': {'name': 'HaYarkon/Trumpeldor', 'type': 'station', 'location': {'lat': 32.07536, 'lng': 34.766633}, 'id': '415801427', 'code': '20657'}}, 'arrival': {'time': '2022-07-02T18:43:00+03:00', 'place': {'type': 'place', 'location': {'lat': 32.07979, 'lng': 34.76793}}}, 'transport': {'mode': 'pedestrian'}}]}, {'id': 'f640bf3c-0178-4746-a916-09c9802e925b', 'sections': [{'id': '86b6bbce-3d83-4887-8545-8738be8a5226', 'type': 'pedestrian', 'departure': {'time': '2022-07-01T17:31:15+03:00', 'place': {'type': 'place', 'location': {'lat': 32.0742493, 'lng': 34.76592}}}, 'arrival': {'time': '2022-07-01T17:43:57+03:00', 'place': {'type': 'place', 'location': {'lat': 32.0799599, 'lng': 34.7679381}}}, 'transport': {'mode': 'pedestrian'}}]}]}\n",
      "Found Attractions:\n",
      "\n",
      "\n",
      "\n",
      "{'Duration': None, 'Cost': 96.0, 'Times:': [datetime.datetime(2022, 7, 1, 9, 21), datetime.datetime(2022, 7, 1, 12, 21)], 'Title': 'From Jerusalem: Masada and Dead Sea Tour', 'Dest': '32.075565,34.767686'}\n",
      "{'Duration': None, 'Cost': 80.0, 'Times:': [datetime.datetime(2022, 7, 1, 13, 31, 15), datetime.datetime(2022, 7, 1, 16, 31, 15)], 'Title': 'Jerusalem Day Tour from Tel Aviv', 'Dest': '32.073954,34.765815'}\n",
      "Found Trip\n",
      "\n",
      "\n",
      "\n",
      "{'Duration': datetime.timedelta(seconds=300), 'Cost': 0, 'Times:': [datetime.datetime(2022, 7, 1, 9, 0), datetime.datetime(2022, 7, 1, 9, 5)], 'Title': 'pedestrian', 'Dest': '32.078216,34.766845'}\n",
      "{'Duration': datetime.timedelta(seconds=300), 'Cost': None, 'Times:': [datetime.datetime(2022, 7, 1, 9, 5), datetime.datetime(2022, 7, 1, 9, 10)], 'Title': 'bus', 'Dest': '32.073094,34.76607'}\n",
      "{'Duration': datetime.timedelta(seconds=360), 'Cost': 0, 'Times:': [datetime.datetime(2022, 7, 1, 9, 10), datetime.datetime(2022, 7, 1, 9, 16)], 'Title': 'pedestrian', 'Dest': '32.075565,34.767686'}\n",
      "{'Duration': datetime.timedelta(seconds=315), 'Cost': 0, 'Times:': [datetime.datetime(2022, 7, 1, 13, 21), datetime.datetime(2022, 7, 1, 13, 26, 15)], 'Title': 'pedestrian', 'Dest': '32.0742493,34.76592'}\n",
      "{'Duration': datetime.timedelta(seconds=120), 'Cost': 0, 'Times:': [datetime.datetime(2022, 7, 2, 18, 31), datetime.datetime(2022, 7, 2, 18, 33)], 'Title': 'pedestrian', 'Dest': '32.073731,34.766306'}\n",
      "{'Duration': datetime.timedelta(seconds=60), 'Cost': None, 'Times:': [datetime.datetime(2022, 7, 2, 18, 33), datetime.datetime(2022, 7, 2, 18, 34)], 'Title': 'bus', 'Dest': '32.07536,34.766633'}\n",
      "{'Duration': datetime.timedelta(seconds=540), 'Cost': 0, 'Times:': [datetime.datetime(2022, 7, 2, 18, 34), datetime.datetime(2022, 7, 2, 18, 43)], 'Title': 'pedestrian', 'Dest': '32.07979,34.76793'}\n",
      "None\n"
     ]
    }
   ],
   "source": [
    "usedAttractions = []\n",
    "fastPaced = False\n",
    "print(planFullDay(tripPeople, luxury, lowCost,\n",
    "            museumOriented, fastPaced, priceCapLeft, hotel, transport, choosenHotel, usedAttractions, date))"
   ]
  },
  {
   "cell_type": "code",
   "execution_count": 40,
   "id": "ed2de536",
   "metadata": {
    "scrolled": true
   },
   "outputs": [
    {
     "name": "stdout",
     "output_type": "stream",
     "text": [
      "{'routes': [{'id': 'C0', 'sections': [{'id': 'C0-S0', 'type': 'pedestrian', 'departure': {'time': '2022-10-02T06:50:00+01:00', 'place': {'type': 'place', 'location': {'lat': 51.5061, 'lng': -0.10144}}}, 'arrival': {'time': '2022-10-02T07:08:00+01:00', 'place': {'name': 'London Bridge Rail Station', 'type': 'accessPoint', 'location': {'lat': 51.505327, 'lng': -0.086886}}}, 'transport': {'mode': 'pedestrian'}}, {'id': 'C0-S0-arr', 'type': 'pedestrian', 'departure': {'time': '2022-10-02T07:08:00+01:00', 'place': {'name': 'London Bridge Rail Station', 'type': 'accessPoint', 'location': {'lat': 51.505327, 'lng': -0.086886}}}, 'arrival': {'time': '2022-10-02T07:09:00+01:00', 'place': {'name': 'London Bridge', 'type': 'station', 'location': {'lat': 51.50511, 'lng': -0.08609}, 'wheelchairAccessible': 'yes', 'id': '120011305', 'code': 'LNDNBDC'}}, 'spans': [{'walkAttributes': ['indoor']}], 'transport': {'mode': 'pedestrian'}}, {'id': 'C0-S1', 'type': 'transit', 'departure': {'time': '2022-10-02T07:09:00+01:00', 'place': {'name': 'London Bridge', 'type': 'station', 'location': {'lat': 51.50511, 'lng': -0.08609}, 'wheelchairAccessible': 'yes', 'id': '120011305', 'code': 'LNDNBDC'}}, 'arrival': {'time': '2022-10-02T07:22:00+01:00', 'place': {'name': 'East Croydon', 'type': 'station', 'location': {'lat': 51.37545, 'lng': -0.09278}, 'wheelchairAccessible': 'yes', 'id': '120010724', 'code': 'ECROYDN'}}, 'transport': {'mode': 'regionalTrain', 'name': 'Thameslink', 'category': 'Rail', 'color': '#30104D', 'textColor': '#FFFFFF', 'headsign': '11', 'shortName': 'Thameslink', 'longName': 'London Bridge - Brighton'}, 'agency': {'id': '99939_31a923d', 'name': 'Thameslink', 'website': 'https://www.thameslinkrailway.com/'}}, {'id': 'C0-S2', 'type': 'transit', 'departure': {'time': '2022-10-02T07:27:00+01:00', 'place': {'name': 'East Croydon', 'type': 'station', 'location': {'lat': 51.37545, 'lng': -0.09278}, 'wheelchairAccessible': 'yes', 'id': '120010724', 'code': 'ECROYDN'}}, 'arrival': {'time': '2022-10-02T07:46:00+01:00', 'place': {'name': 'Redhill', 'type': 'station', 'location': {'lat': 51.2402, 'lng': -0.1659}, 'wheelchairAccessible': 'yes', 'id': '120011857', 'code': 'REDHILL'}}, 'transport': {'mode': 'regionalTrain', 'name': 'Southern', 'category': 'Rail', 'color': '#003F2E', 'textColor': '#FFE100', 'headsign': '6', 'shortName': 'Southern', 'longName': 'London Victoria - Brighton'}, 'agency': {'id': '99939_36602fa', 'name': 'Southern', 'website': 'https://www.southernrailway.com/'}}, {'id': 'C0-S3', 'type': 'transit', 'departure': {'time': '2022-10-02T07:51:00+01:00', 'place': {'name': 'Redhill', 'type': 'station', 'location': {'lat': 51.2402, 'lng': -0.1659}, 'wheelchairAccessible': 'yes', 'id': '120011857', 'code': 'REDHILL'}}, 'arrival': {'time': '2022-10-02T07:55:00+01:00', 'place': {'name': 'Nutfield', 'type': 'station', 'location': {'lat': 51.22681, 'lng': -0.13253}, 'wheelchairAccessible': 'yes', 'id': '120011654', 'code': 'NUTFILD'}}, 'transport': {'mode': 'regionalTrain', 'name': 'Southern', 'category': 'Rail', 'color': '#003F2E', 'textColor': '#FFE100', 'headsign': '1', 'shortName': 'Southern', 'longName': 'Redhill - Tonbridge'}, 'agency': {'id': '99939_36602fa', 'name': 'Southern', 'website': 'https://www.southernrailway.com/'}}, {'id': 'C0-S4-dep', 'type': 'pedestrian', 'departure': {'time': '2022-10-02T07:55:00+01:00', 'place': {'name': 'Nutfield', 'type': 'station', 'location': {'lat': 51.22681, 'lng': -0.13253}, 'wheelchairAccessible': 'yes', 'id': '120011654', 'code': 'NUTFILD'}}, 'arrival': {'time': '2022-10-02T07:56:00+01:00', 'place': {'name': 'Nutfield Rail Station', 'type': 'accessPoint', 'location': {'lat': 51.226568, 'lng': -0.132512}}}, 'spans': [{'walkAttributes': ['indoor']}], 'transport': {'mode': 'pedestrian'}}, {'id': 'C0-S4', 'type': 'pedestrian', 'departure': {'time': '2022-10-02T07:56:00+01:00', 'place': {'name': 'Nutfield Rail Station', 'type': 'accessPoint', 'location': {'lat': 51.226568, 'lng': -0.132512}}}, 'arrival': {'time': '2022-10-02T08:25:00+01:00', 'place': {'type': 'place', 'location': {'lat': 51.2191, 'lng': -0.1246}}}, 'transport': {'mode': 'pedestrian'}}]}]}\n",
      "{'Duration': datetime.timedelta(seconds=1080), 'Cost': 0, 'Times:': [datetime.datetime(2022, 10, 2, 6, 50), datetime.datetime(2022, 10, 2, 7, 8)], 'Title': 'pedestrian', 'Dest': '51.505327,-0.086886'}\n",
      "{'Duration': datetime.timedelta(seconds=60), 'Cost': 0, 'Times:': [datetime.datetime(2022, 10, 2, 7, 8), datetime.datetime(2022, 10, 2, 7, 9)], 'Title': 'pedestrian', 'Dest': '51.50511,-0.08609'}\n",
      "{'Duration': datetime.timedelta(seconds=780), 'Cost': None, 'Times:': [datetime.datetime(2022, 10, 2, 7, 9), datetime.datetime(2022, 10, 2, 7, 22)], 'Title': 'regionalTrain', 'Dest': '51.37545,-0.09278'}\n",
      "{'Duration': datetime.timedelta(seconds=1140), 'Cost': None, 'Times:': [datetime.datetime(2022, 10, 2, 7, 27), datetime.datetime(2022, 10, 2, 7, 46)], 'Title': 'regionalTrain', 'Dest': '51.2402,-0.1659'}\n",
      "{'Duration': datetime.timedelta(seconds=240), 'Cost': None, 'Times:': [datetime.datetime(2022, 10, 2, 7, 51), datetime.datetime(2022, 10, 2, 7, 55)], 'Title': 'regionalTrain', 'Dest': '51.22681,-0.13253'}\n",
      "{'Duration': datetime.timedelta(seconds=60), 'Cost': 0, 'Times:': [datetime.datetime(2022, 10, 2, 7, 55), datetime.datetime(2022, 10, 2, 7, 56)], 'Title': 'pedestrian', 'Dest': '51.226568,-0.132512'}\n",
      "{'Duration': datetime.timedelta(seconds=1740), 'Cost': 0, 'Times:': [datetime.datetime(2022, 10, 2, 7, 56), datetime.datetime(2022, 10, 2, 8, 25)], 'Title': 'pedestrian', 'Dest': '51.2191,-0.1246'}\n"
     ]
    }
   ],
   "source": [
    "transport = transportFunctions()\n",
    "#print(datetime.datetime.now())\n",
    "date = datetime.datetime.now()\n",
    "date = date.replace(minute=59, hour=23, second=59, year=2022, month=10, day=1)\n",
    "a = transport.getTransportByTime(51.5061,-0.10144,51.2191,-0.1246, str(date.isoformat()))\n",
    "for i in a:\n",
    "    print(i)\n",
    "    pass"
   ]
  },
  {
   "cell_type": "code",
   "execution_count": 40,
   "id": "18ec990b",
   "metadata": {},
   "outputs": [],
   "source": [
    "def planDay(fastPaced, attractionOptions, transportObject, xCoord, yCoord, date, usedAttractions):\n",
    "    currDate = date.replace(minute = 0, hour = 9, second=0)\n",
    "    print(\"THE DATE IS:\", currDate)\n",
    "    attractionArr = []\n",
    "    transportArr = []\n",
    "    currX = xCoord\n",
    "    currY = yCoord\n",
    "    attractionCount = 2\n",
    "    if (fastPaced):\n",
    "        attractionCount = 3\n",
    "    for i in range(0, min((attractionCount), len(attractionOptions))):\n",
    "        attractionLocation = attractionOptions[i].destination.split(',')\n",
    "        destX = float(attractionLocation[0])\n",
    "        destY = float(attractionLocation[1])\n",
    "        currTransport = transport.getTransportByTime(currX, currY, destX, destY, str(currDate.isoformat()))\n",
    "        currX = destX\n",
    "        currY = destY\n",
    "        print(currTransport)\n",
    "        currDate = currTransport[-1].timeEnd\n",
    "        currDate = currDate + datetime.timedelta(minutes=5)\n",
    "        transportArr.append(currTransport)\n",
    "        attractionOptions[i].timeStart = currDate\n",
    "        currDate = currDate + datetime.timedelta(hours=3)\n",
    "        attractionOptions[i].timeEnd = currDate\n",
    "        currDate = currDate + datetime.timedelta(minutes=60)\n",
    "        attractionArr.append(attractionOptions[i])\n",
    "        usedAttractions.append(attractionOptions[i].title.lower())\n",
    "    print(\"The date at the end is\", currDate)\n",
    "    currTransport = transport.getTransportByTime(currX, currY, xCoord, yCoord, str(currDate.isoformat()))\n",
    "    transportArr.append(currTransport)\n",
    "    print(\"Found Attractions:\\n\\n\\n\")\n",
    "    for i in attractionArr:\n",
    "        print(i)\n",
    "    print(\"Found Trip\\n\\n\\n\")\n",
    "    for i in transportArr:\n",
    "        for j in i:\n",
    "            print(j)\n",
    "    return [], []"
   ]
  },
  {
   "cell_type": "code",
   "execution_count": null,
   "id": "e42871f6",
   "metadata": {},
   "outputs": [],
   "source": []
  }
 ],
 "metadata": {
  "kernelspec": {
   "display_name": "Python 3",
   "language": "python",
   "name": "python3"
  },
  "language_info": {
   "codemirror_mode": {
    "name": "ipython",
    "version": 3
   },
   "file_extension": ".py",
   "mimetype": "text/x-python",
   "name": "python",
   "nbconvert_exporter": "python",
   "pygments_lexer": "ipython3",
   "version": "3.9.1"
  }
 },
 "nbformat": 4,
 "nbformat_minor": 5
}
