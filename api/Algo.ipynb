{
 "cells": [
  {
   "cell_type": "code",
   "execution_count": 1,
   "id": "b6e3d24e",
   "metadata": {},
   "outputs": [],
   "source": [
    "import classes\n",
    "from amadeus import Client, ResponseError\n",
    "from hotels1 import hotelFunctions\n",
    "import amadeus\n",
    "#import api\n",
    "import hotels1\n",
    "import hotelTests\n",
    "import transport\n",
    "from transport import transportFunctions"
   ]
  },
  {
   "cell_type": "code",
   "execution_count": 2,
   "id": "e4f9ced0",
   "metadata": {},
   "outputs": [],
   "source": [
    "amadeus = Client(\n",
    "        client_id='CGwOmHn7cmfAIuUcbqUiaPC5LAyAvwAG',\n",
    "        client_secret='rKvILHDsjxcCh6yq'\n",
    "    )\n",
    "hotel = hotelFunctions(amadeus)\n",
    "hotels = hotel.getHotelsByGeocode(32.079664, 34.767410)"
   ]
  },
  {
   "cell_type": "code",
   "execution_count": 3,
   "id": "e50d534a",
   "metadata": {},
   "outputs": [
    {
     "name": "stdout",
     "output_type": "stream",
     "text": [
      "{'Duration': None, 'Cost': 153.0, 'Times:': ['2022-06-16', '2022-06-17'], 'Title': 'Best Western Regency Suites', 'Dest': '32.079664,34.76741'}\n",
      "{'Duration': None, 'Cost': 413.1, 'Times:': ['2022-06-16', '2022-06-17'], 'Title': 'Sheraton Tel Aviv', 'Dest': '32.079664,34.76741'}\n"
     ]
    }
   ],
   "source": [
    "for i in hotels:\n",
    "    print(i)"
   ]
  },
  {
   "cell_type": "code",
   "execution_count": 2,
   "id": "89dd8c61",
   "metadata": {},
   "outputs": [],
   "source": [
    "transport = transportFunctions()\n",
    "transports = transport.getTransport(32.0845191,34.8037962,32.0791345,34.7924341)\n"
   ]
  },
  {
   "cell_type": "code",
   "execution_count": 4,
   "id": "148dcafa",
   "metadata": {},
   "outputs": [
    {
     "name": "stdout",
     "output_type": "stream",
     "text": [
      "{'Duration': datetime.timedelta(seconds=120), 'Cost': 0, 'Times:': [datetime.datetime(2022, 6, 16, 17, 12), datetime.datetime(2022, 6, 16, 17, 14)], 'Title': 'pedestrian', 'Dest': '32.083686,34.803138'}\n",
      "{'Duration': datetime.timedelta(seconds=180), 'Cost': None, 'Times:': [datetime.datetime(2022, 6, 16, 17, 14), datetime.datetime(2022, 6, 16, 17, 17)], 'Title': 'bus', 'Dest': '32.077723,34.790819'}\n",
      "{'Duration': datetime.timedelta(seconds=300), 'Cost': 0, 'Times:': [datetime.datetime(2022, 6, 16, 17, 17), datetime.datetime(2022, 6, 16, 17, 22)], 'Title': 'pedestrian', 'Dest': '32.079135,34.792434'}\n"
     ]
    }
   ],
   "source": [
    "for i in transports:\n",
    "    print(i)"
   ]
  },
  {
   "cell_type": "code",
   "execution_count": null,
   "id": "8fa4c998",
   "metadata": {},
   "outputs": [],
   "source": []
  }
 ],
 "metadata": {
  "kernelspec": {
   "display_name": "Python 3",
   "language": "python",
   "name": "python3"
  },
  "language_info": {
   "codemirror_mode": {
    "name": "ipython",
    "version": 3
   },
   "file_extension": ".py",
   "mimetype": "text/x-python",
   "name": "python",
   "nbconvert_exporter": "python",
   "pygments_lexer": "ipython3",
   "version": "3.9.1"
  }
 },
 "nbformat": 4,
 "nbformat_minor": 5
}
