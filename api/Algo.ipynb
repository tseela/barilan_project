{
 "cells": [
  {
   "cell_type": "code",
   "execution_count": 1,
   "id": "64e8d02e",
   "metadata": {},
   "outputs": [],
   "source": [
    "import classes\n",
    "import random\n",
    "from amadeus import Client, ResponseError\n",
    "from hotels1 import hotelFunctions\n",
    "import amadeus\n",
    "#import api\n",
    "import hotels1\n",
    "import hotelTests\n",
    "import transport\n",
    "from transport import transportFunctions\n",
    "from transport import getNZfromCity\n",
    "import datetime"
   ]
  },
  {
   "cell_type": "code",
   "execution_count": 2,
   "id": "e2d54eb0",
   "metadata": {},
   "outputs": [],
   "source": [
    "amadeus = Client(\n",
    "        client_id='CGwOmHn7cmfAIuUcbqUiaPC5LAyAvwAG',\n",
    "        client_secret='rKvILHDsjxcCh6yq'\n",
    "    )\n",
    "hotel = hotelFunctions(amadeus)"
   ]
  },
  {
   "cell_type": "code",
   "execution_count": 4,
   "id": "4ebe0ad1",
   "metadata": {},
   "outputs": [
    {
     "name": "stdout",
     "output_type": "stream",
     "text": [
      "Those are it: 'media'\n"
     ]
    }
   ],
   "source": [
    "hotels = hotel.getHotelsByGeocode(getNZfromCity('London')[0], getNZfromCity('London')[1])"
   ]
  },
  {
   "cell_type": "code",
   "execution_count": 5,
   "id": "3ae42683",
   "metadata": {},
   "outputs": [
    {
     "name": "stdout",
     "output_type": "stream",
     "text": [
      "{'Duration': None, 'Cost': 219.0, 'Times:': ['2022-06-18', '2022-06-19'], 'Title': 'HOLIDAY INN EXP SOUTHWARK ST', 'Dest': '51.5061,-0.10144'}\n",
      "{'Duration': None, 'Cost': 196.63, 'Times:': ['2022-06-18', '2022-06-19'], 'Title': 'London Blackfriars', 'Dest': '51.5131,-0.10561'}\n",
      "{'Duration': None, 'Cost': 207.63, 'Times:': ['2022-06-18', '2022-06-19'], 'Title': 'London Waterloo', 'Dest': '51.50329,-0.11521'}\n",
      "{'Duration': None, 'Cost': 367.0, 'Times:': ['2022-06-18', '2022-06-19'], 'Title': 'Andaz Liverpool Street London', 'Dest': '51.51651,-0.08191'}\n",
      "{'Duration': None, 'Cost': 449.0, 'Times:': ['2022-06-18', '2022-06-19'], 'Title': 'THE WALDORF HILTON', 'Dest': '51.51264,-0.11937'}\n",
      "{'Duration': None, 'Cost': 285.0, 'Times:': ['2022-06-18', '2022-06-19'], 'Title': 'DOUBLETREE TOWER OF LONDON', 'Dest': '51.51091,-0.07849'}\n",
      "{'Duration': None, 'Cost': 202.63, 'Times:': ['2022-06-18', '2022-06-19'], 'Title': 'London Tower Bridge', 'Dest': '51.50003,-0.0815'}\n",
      "{'Duration': None, 'Cost': 221.63, 'Times:': ['2022-06-18', '2022-06-19'], 'Title': 'London County Hall', 'Dest': '51.50147,-0.11876'}\n",
      "{'Duration': None, 'Cost': 324.0, 'Times:': ['2022-06-18', '2022-06-19'], 'Title': 'DOUBLETREE LONDON WEST END', 'Dest': '51.51985,-0.12213'}\n",
      "{'Duration': None, 'Cost': 75.06, 'Times:': ['2022-06-18', '2022-06-19'], 'Title': 'ibis London City - Shoreditch', 'Dest': '51.51534,-0.07197'}\n"
     ]
    }
   ],
   "source": [
    "for i in hotels:\n",
    "    print(i)"
   ]
  },
  {
   "cell_type": "code",
   "execution_count": 3,
   "id": "2dcbd141",
   "metadata": {},
   "outputs": [],
   "source": [
    "transport = transportFunctions()\n",
    "transports = transport.getTransport(51.5061,-0.10144,51.2191,-0.1246)\n"
   ]
  },
  {
   "cell_type": "code",
   "execution_count": 7,
   "id": "d221adb2",
   "metadata": {},
   "outputs": [
    {
     "name": "stdout",
     "output_type": "stream",
     "text": [
      "{'Duration': datetime.timedelta(seconds=360), 'Cost': 0, 'Times:': [datetime.datetime(2022, 6, 18, 17, 2), datetime.datetime(2022, 6, 18, 17, 8)], 'Title': 'pedestrian', 'Dest': '51.508517,-0.103367'}\n",
      "{'Duration': datetime.timedelta(seconds=360), 'Cost': 0, 'Times:': [datetime.datetime(2022, 6, 18, 17, 8), datetime.datetime(2022, 6, 18, 17, 14)], 'Title': 'pedestrian', 'Dest': '51.51181,-0.10333'}\n",
      "{'Duration': datetime.timedelta(seconds=2280), 'Cost': None, 'Times:': [datetime.datetime(2022, 6, 18, 17, 14), datetime.datetime(2022, 6, 18, 17, 52)], 'Title': 'regionalTrain', 'Dest': '51.2402,-0.1659'}\n",
      "{'Duration': datetime.timedelta(seconds=240), 'Cost': None, 'Times:': [datetime.datetime(2022, 6, 18, 18, 0), datetime.datetime(2022, 6, 18, 18, 4)], 'Title': 'regionalTrain', 'Dest': '51.22681,-0.13253'}\n",
      "{'Duration': datetime.timedelta(seconds=60), 'Cost': 0, 'Times:': [datetime.datetime(2022, 6, 18, 18, 4), datetime.datetime(2022, 6, 18, 18, 5)], 'Title': 'pedestrian', 'Dest': '51.226568,-0.132512'}\n",
      "{'Duration': datetime.timedelta(seconds=1740), 'Cost': 0, 'Times:': [datetime.datetime(2022, 6, 18, 18, 5), datetime.datetime(2022, 6, 18, 18, 34)], 'Title': 'pedestrian', 'Dest': '51.2191,-0.1246'}\n"
     ]
    }
   ],
   "source": [
    "for i in transports:\n",
    "    print(i)"
   ]
  },
  {
   "cell_type": "code",
   "execution_count": 8,
   "id": "637dd6ab",
   "metadata": {},
   "outputs": [],
   "source": [
    "attractions = hotel.getActivities(32.079664, 34.767410, 2)"
   ]
  },
  {
   "cell_type": "code",
   "execution_count": 9,
   "id": "c14e5015",
   "metadata": {},
   "outputs": [
    {
     "name": "stdout",
     "output_type": "stream",
     "text": [
      "{'Duration': None, 'Cost': 25.0, 'Times:': [None, None], 'Title': 'Tel Aviv Pub Crawl', 'Dest': '32.075996,34.766022'}\n",
      "{'Duration': None, 'Cost': 96.0, 'Times:': [None, None], 'Title': 'From Jerusalem: Masada and Dead Sea Tour', 'Dest': '32.075565,34.767686'}\n",
      "{'Duration': None, 'Cost': 34.0, 'Times:': [None, None], 'Title': 'Tel Aviv: Street Food Tour', 'Dest': '32.077840,34.777979'}\n",
      "{'Duration': None, 'Cost': 80.0, 'Times:': [None, None], 'Title': 'Jerusalem Day Tour from Tel Aviv', 'Dest': '32.073954,34.765815'}\n",
      "{'Duration': None, 'Cost': 65.0, 'Times:': [None, None], 'Title': 'Tel Aviv: Jerusalem Old City Late Morning Tour', 'Dest': '32.074602,34.768443'}\n",
      "{'Duration': None, 'Cost': 53.0, 'Times:': [None, None], 'Title': 'Tel Aviv: Private Group Guided Bike Tour', 'Dest': '32.074815,34.767932'}\n"
     ]
    }
   ],
   "source": [
    "for i in attractions:\n",
    "    print(i)"
   ]
  },
  {
   "cell_type": "code",
   "execution_count": 10,
   "id": "889828af",
   "metadata": {},
   "outputs": [],
   "source": [
    "def chooseCheapestHotel(hotels):\n",
    "    lowest = 1000000\n",
    "    index = 0\n",
    "    for i in range(0, len(hotels)):\n",
    "        if (hotels[i].cost < lowest):\n",
    "            index = i\n",
    "            lowest = hotels[i].cost\n",
    "    return hotels[index]\n",
    "def chooseMostLuxuriousHotel(hotels):\n",
    "    highest = 0\n",
    "    index = 0\n",
    "    for i in range(0, len(hotels)):\n",
    "        if (hotels[i].cost > highest):\n",
    "            index = i\n",
    "            highest = hotels[i].cost\n",
    "    return hotels[index]"
   ]
  },
  {
   "cell_type": "code",
   "execution_count": 11,
   "id": "3365c44e",
   "metadata": {},
   "outputs": [
    {
     "name": "stdout",
     "output_type": "stream",
     "text": [
      "{'Duration': None, 'Cost': 319.06, 'Times:': ['2022-06-18', '2022-06-19'], 'Title': 'Holiday Inn Brooklyn Downtown', 'Dest': '40.68739,-73.98265'}\n",
      "{'Duration': None, 'Cost': 285.38, 'Times:': ['2022-06-18', '2022-06-19'], 'Title': 'Sheraton Brooklyn New York Hotel', 'Dest': '40.6916,-73.98438'}\n",
      "{'Duration': None, 'Cost': 362.67, 'Times:': ['2022-06-18', '2022-06-19'], 'Title': 'New York Marriott at the Brooklyn Bridge', 'Dest': '40.69384,-73.98916'}\n",
      "{'Duration': None, 'Cost': 313.33, 'Times:': ['2022-06-18', '2022-06-19'], 'Title': 'Best Western Plus Arena Hotel', 'Dest': '40.67837,-73.94654'}\n",
      "{'Duration': None, 'Cost': 266.28, 'Times:': ['2022-06-18', '2022-06-19'], 'Title': 'Fairfield Inn by Marriott New York Manhattan Financial District', 'Dest': '40.70604,-74.00502'}\n",
      "{'Duration': None, 'Cost': 381.03, 'Times:': ['2022-06-18', '2022-06-19'], 'Title': 'HAMPTON INN MANHATTAN SEAPORT', 'Dest': '40.70906,-74.00199'}\n",
      "{'Duration': None, 'Cost': 478.58, 'Times:': ['2022-06-18', '2022-06-19'], 'Title': 'Andaz Wall Street', 'Dest': '40.70541,-74.00783'}\n",
      "{'Duration': None, 'Cost': 413.16, 'Times:': ['2022-06-18', '2022-06-19'], 'Title': 'New York Marriott Downtown', 'Dest': '40.70975,-74.01468'}\n",
      "{'Duration': None, 'Cost': 358.11, 'Times:': ['2022-06-18', '2022-06-19'], 'Title': 'HILTON GI NEW YORK -TRIBECA', 'Dest': '40.72101,-74.00523'}\n",
      "{'Duration': None, 'Cost': 478.58, 'Times:': ['2022-06-18', '2022-06-19'], 'Title': 'Andaz Wall Street', 'Dest': '40.70541,-74.00783'}\n"
     ]
    }
   ],
   "source": [
    "lowCost = False\n",
    "luxury = True\n",
    "#shoomerShabat = False\n",
    "tripPeople = 4\n",
    "duration = 4\n",
    "museumOriented = True\n",
    "fastPaced = True\n",
    "usedAttractions = []\n",
    "maxPrice = 10000\n",
    "priceCapLeft = 10000 # maybe add mostCentralLocation implementation later\n",
    "amadeus = Client(\n",
    "    client_id='CGwOmHn7cmfAIuUcbqUiaPC5LAyAvwAG',\n",
    "    client_secret='rKvILHDsjxcCh6yq'\n",
    ")\n",
    "city = \"New York\"\n",
    "hotel = hotelFunctions(amadeus)\n",
    "transport = transportFunctions()\n",
    "#print(city)\n",
    "#print(getNZfromCity(city))\n",
    "hotels = hotel.getHotelsByGeocode(getNZfromCity(city)[0], getNZfromCity(city)[1])\n",
    "for i in hotels:\n",
    "    print(i)\n",
    "choosenHotel = None\n",
    "if (lowCost):\n",
    "    choosenHotel = chooseCheapestHotel(hotels)\n",
    "elif (luxury):\n",
    "    choosenHotel = chooseMostLuxuriousHotel(hotels)\n",
    "else:\n",
    "    choosenHotel = random.choice(hotels)\n",
    "print(choosenHotel)"
   ]
  },
  {
   "cell_type": "code",
   "execution_count": 12,
   "id": "5f958ea4",
   "metadata": {},
   "outputs": [],
   "source": [
    "def cleanUsedAttractions(attractions, usedAttractions):\n",
    "    newAttractionList = []\n",
    "    for i in attractions:\n",
    "        if (i.title.lower() in usedAttractions):\n",
    "            continue\n",
    "        newAttractionList.append(i)\n",
    "    return newAttractionList"
   ]
  },
  {
   "cell_type": "code",
   "execution_count": null,
   "id": "5eff5093",
   "metadata": {},
   "outputs": [],
   "source": [
    "def augDate(minute, hour, second, year, month, day)"
   ]
  },
  {
   "cell_type": "code",
   "execution_count": 19,
   "id": "babb1563",
   "metadata": {},
   "outputs": [],
   "source": []
  },
  {
   "cell_type": "code",
   "execution_count": 16,
   "id": "d191f107",
   "metadata": {},
   "outputs": [],
   "source": [
    "transport = transportFunctions()\n",
    "def planFullDay(tripPeople, luxury, lowCost, museumOriented, \n",
    "                fastPaced, priceCapLeft, attractionObject, transportObject, hotel, usedAttractions, date):\n",
    "    xCoord = hotel.destination.split(',')\n",
    "    yCoord = float(xCoord[1])\n",
    "    xCoord = float(xCoord[0])\n",
    "    print(xCoord, yCoord)\n",
    "    attractions = [] # maybe add most_central_location implementation later\n",
    "    while (attractions == []):\n",
    "        attractions = attractionObject.getActivities(xCoord, yCoord, 10)\n",
    "        attractions = cleanUsedAttractions(attractions, usedAttractions)\n",
    "        noise = random.random() - 0.5 * 0.2\n",
    "        xCoord += noise\n",
    "        yCoord += noise\n",
    "    attractionOptions = []\n",
    "    for i in attractions:\n",
    "        print(i)\n",
    "    if (museumOriented):\n",
    "        for i in attractions:\n",
    "            if ('museum' in i.title.lower()):\n",
    "                attractionOptions.append(i)\n",
    "        if (attractionOptions == []):\n",
    "            attractionOptions = attractions\n",
    "            noise = random.random() - 0.5 * 0.2\n",
    "            xCoord += noise\n",
    "            yCoord += noise\n",
    "    else:\n",
    "        attractionOptions = attractions\n",
    "    if (lowCost):\n",
    "        attractionOptions.sort(key=lambda x: x.cost)\n",
    "    elif (luxury):\n",
    "        attractionOptions.sort(key=lambda x: x.cost, reverse=True)\n",
    "    day, usedAttractions = planDayObject(fastPaced, attractionOptions, transportObject, xCoord, yCoord)"
   ]
  },
  {
   "cell_type": "code",
   "execution_count": 17,
   "id": "9d03bfdf",
   "metadata": {},
   "outputs": [
    {
     "name": "stdout",
     "output_type": "stream",
     "text": [
      "40.70541 -74.00783\n",
      "{'Duration': None, 'Cost': 26.0, 'Times:': [None, None], 'Title': '9-11 Memorial and Museum tickets', 'Dest': '40.711548,-74.013292'}\n",
      "{'Duration': None, 'Cost': 195.0, 'Times:': [None, None], 'Title': 'Big Apple Helicopter Tour of New York', 'Dest': '40.712434,-74.010543'}\n",
      "{'Duration': None, 'Cost': 36.0, 'Times:': [None, None], 'Title': 'NYC One World Observatory Skip-the-Line Ticket', 'Dest': '40.711544,-74.013487'}\n",
      "{'Duration': None, 'Cost': 39.0, 'Times:': [None, None], 'Title': 'Empire State Building Tickets - Observatory and Optional Skip the Line Tickets', 'Dest': '40.712784,-74.005941'}\n",
      "{'Duration': None, 'Cost': 42.0, 'Times:': [None, None], 'Title': 'Circle Line: Complete Manhattan Island Cruise', 'Dest': '40.712784,-74.005941'}\n",
      "{'Duration': None, 'Cost': 39.0, 'Times:': [None, None], 'Title': 'Top of the Rock Observation Deck, New York', 'Dest': '40.712784,-74.005941'}\n",
      "{'Duration': None, 'Cost': 27.0, 'Times:': [None, None], 'Title': '9/11 Memorial Museum Admission', 'Dest': '40.711626,-74.010714'}\n",
      "{'Duration': None, 'Cost': 33.0, 'Times:': [None, None], 'Title': '9/11 Memorial and Ground Zero Tour with Optional Skip-Line 911 Museum Tickets', 'Dest': '40.707424,-74.011634'}\n",
      "{'Duration': None, 'Cost': 19.0, 'Times:': [None, None], 'Title': 'World Trade Center Tour with Optional 9/11 Museum Ticket', 'Dest': '40.706440,-74.016270'}\n",
      "{'Duration': None, 'Cost': 217.0, 'Times:': [None, None], 'Title': 'New York City Helicopter Tours', 'Dest': '40.701790,-74.009345'}\n",
      "{'Duration': None, 'Cost': 36.0, 'Times:': [None, None], 'Title': 'New York One World Observatory: Skip-the-Line Ticket Options', 'Dest': '40.713250,-74.013784'}\n",
      "{'Duration': None, 'Cost': 53.0, 'Times:': [None, None], 'Title': 'Statue of Liberty and Ellis Island: 4-Hour Guided Tour', 'Dest': '40.703440,-74.016802'}\n",
      "{'Duration': None, 'Cost': 46.0, 'Times:': [None, None], 'Title': 'Statue of Liberty: Pedestal Express and Ellis Island', 'Dest': '40.703376,-74.013807'}\n",
      "{'Duration': None, 'Cost': 17.0, 'Times:': [None, None], 'Title': '60-Minute Cruise Around the Statue of Liberty & Ellis Island', 'Dest': '40.705036,-74.003753'}\n",
      "{'Duration': None, 'Cost': 37.0, 'Times:': [None, None], 'Title': 'Statue of Liberty Pedestal, Ellis Island & Pre-Ferry Tour', 'Dest': '40.703381,-74.013919'}\n",
      "{'Duration': None, 'Cost': 26.0, 'Times:': [None, None], 'Title': 'New York: 9/11 Memorial & Museum Skip-the-Ticket-Line Entry', 'Dest': '40.711415,-74.012479'}\n",
      "{'Duration': None, 'Cost': 22.0, 'Times:': [None, None], 'Title': 'NYC: Statue of Liberty Priority or Flexible Ticket', 'Dest': '40.703440,-74.016802'}\n",
      "{'Duration': None, 'Cost': 215.0, 'Times:': [None, None], 'Title': '15 Minute Helicopter Tour - Including Heliport Fees', 'Dest': '40.701435,-74.009132'}\n",
      "{'Duration': None, 'Cost': 260.0, 'Times:': [None, None], 'Title': '20 Minute Helicopter Tour - Including Heliport Fees', 'Dest': '40.701569,-74.009132'}\n",
      "{'Duration': None, 'Cost': 343.0, 'Times:': [None, None], 'Title': '30 Minute Helicopter Tour - Including Heliport Fees', 'Dest': '40.701569,-74.009132'}\n"
     ]
    }
   ],
   "source": [
    "print(planFullDay(tripPeople, luxury, lowCost,\n",
    "            museumOriented, fastPaced, priceCapLeft, hotel, transport, choosenHotel, usedAttractions))"
   ]
  },
  {
   "cell_type": "code",
   "execution_count": 11,
   "id": "ed2de536",
   "metadata": {},
   "outputs": [
    {
     "name": "stdout",
     "output_type": "stream",
     "text": [
      "{'routes': [{'id': 'C0', 'sections': [{'id': 'C0-S0', 'type': 'pedestrian', 'departure': {'time': '2022-10-02T06:50:00+01:00', 'place': {'type': 'place', 'location': {'lat': 51.5061, 'lng': -0.10144}}}, 'arrival': {'time': '2022-10-02T07:08:00+01:00', 'place': {'name': 'London Bridge Rail Station', 'type': 'accessPoint', 'location': {'lat': 51.505327, 'lng': -0.086886}}}, 'transport': {'mode': 'pedestrian'}}, {'id': 'C0-S0-arr', 'type': 'pedestrian', 'departure': {'time': '2022-10-02T07:08:00+01:00', 'place': {'name': 'London Bridge Rail Station', 'type': 'accessPoint', 'location': {'lat': 51.505327, 'lng': -0.086886}}}, 'arrival': {'time': '2022-10-02T07:09:00+01:00', 'place': {'name': 'London Bridge', 'type': 'station', 'location': {'lat': 51.50511, 'lng': -0.08609}, 'wheelchairAccessible': 'yes', 'id': '120011305', 'code': 'LNDNBDC'}}, 'spans': [{'walkAttributes': ['indoor']}], 'transport': {'mode': 'pedestrian'}}, {'id': 'C0-S1', 'type': 'transit', 'departure': {'time': '2022-10-02T07:09:00+01:00', 'place': {'name': 'London Bridge', 'type': 'station', 'location': {'lat': 51.50511, 'lng': -0.08609}, 'wheelchairAccessible': 'yes', 'id': '120011305', 'code': 'LNDNBDC'}}, 'arrival': {'time': '2022-10-02T07:22:00+01:00', 'place': {'name': 'East Croydon', 'type': 'station', 'location': {'lat': 51.37545, 'lng': -0.09278}, 'wheelchairAccessible': 'yes', 'id': '120010724', 'code': 'ECROYDN'}}, 'transport': {'mode': 'regionalTrain', 'name': 'Thameslink', 'category': 'Rail', 'color': '#30104D', 'textColor': '#FFFFFF', 'headsign': '11', 'shortName': 'Thameslink', 'longName': 'London Bridge - Brighton'}, 'agency': {'id': '99939_31a923d', 'name': 'Thameslink', 'website': 'https://www.thameslinkrailway.com/'}}, {'id': 'C0-S2', 'type': 'transit', 'departure': {'time': '2022-10-02T07:27:00+01:00', 'place': {'name': 'East Croydon', 'type': 'station', 'location': {'lat': 51.37545, 'lng': -0.09278}, 'wheelchairAccessible': 'yes', 'id': '120010724', 'code': 'ECROYDN'}}, 'arrival': {'time': '2022-10-02T07:46:00+01:00', 'place': {'name': 'Redhill', 'type': 'station', 'location': {'lat': 51.2402, 'lng': -0.1659}, 'wheelchairAccessible': 'yes', 'id': '120011857', 'code': 'REDHILL'}}, 'transport': {'mode': 'regionalTrain', 'name': 'Southern', 'category': 'Rail', 'color': '#003F2E', 'textColor': '#FFE100', 'headsign': '6', 'shortName': 'Southern', 'longName': 'London Victoria - Brighton'}, 'agency': {'id': '99939_36602fa', 'name': 'Southern', 'website': 'https://www.southernrailway.com/'}}, {'id': 'C0-S3', 'type': 'transit', 'departure': {'time': '2022-10-02T07:51:00+01:00', 'place': {'name': 'Redhill', 'type': 'station', 'location': {'lat': 51.2402, 'lng': -0.1659}, 'wheelchairAccessible': 'yes', 'id': '120011857', 'code': 'REDHILL'}}, 'arrival': {'time': '2022-10-02T07:55:00+01:00', 'place': {'name': 'Nutfield', 'type': 'station', 'location': {'lat': 51.22681, 'lng': -0.13253}, 'wheelchairAccessible': 'yes', 'id': '120011654', 'code': 'NUTFILD'}}, 'transport': {'mode': 'regionalTrain', 'name': 'Southern', 'category': 'Rail', 'color': '#003F2E', 'textColor': '#FFE100', 'headsign': '1', 'shortName': 'Southern', 'longName': 'Redhill - Tonbridge'}, 'agency': {'id': '99939_36602fa', 'name': 'Southern', 'website': 'https://www.southernrailway.com/'}}, {'id': 'C0-S4-dep', 'type': 'pedestrian', 'departure': {'time': '2022-10-02T07:55:00+01:00', 'place': {'name': 'Nutfield', 'type': 'station', 'location': {'lat': 51.22681, 'lng': -0.13253}, 'wheelchairAccessible': 'yes', 'id': '120011654', 'code': 'NUTFILD'}}, 'arrival': {'time': '2022-10-02T07:56:00+01:00', 'place': {'name': 'Nutfield Rail Station', 'type': 'accessPoint', 'location': {'lat': 51.226568, 'lng': -0.132512}}}, 'spans': [{'walkAttributes': ['indoor']}], 'transport': {'mode': 'pedestrian'}}, {'id': 'C0-S4', 'type': 'pedestrian', 'departure': {'time': '2022-10-02T07:56:00+01:00', 'place': {'name': 'Nutfield Rail Station', 'type': 'accessPoint', 'location': {'lat': 51.226568, 'lng': -0.132512}}}, 'arrival': {'time': '2022-10-02T08:25:00+01:00', 'place': {'type': 'place', 'location': {'lat': 51.2191, 'lng': -0.1246}}}, 'transport': {'mode': 'pedestrian'}}]}]}\n",
      "{'Duration': datetime.timedelta(seconds=1080), 'Cost': 0, 'Times:': [datetime.datetime(2022, 10, 2, 6, 50), datetime.datetime(2022, 10, 2, 7, 8)], 'Title': 'pedestrian', 'Dest': '51.505327,-0.086886'}\n",
      "{'Duration': datetime.timedelta(seconds=60), 'Cost': 0, 'Times:': [datetime.datetime(2022, 10, 2, 7, 8), datetime.datetime(2022, 10, 2, 7, 9)], 'Title': 'pedestrian', 'Dest': '51.50511,-0.08609'}\n",
      "{'Duration': datetime.timedelta(seconds=780), 'Cost': None, 'Times:': [datetime.datetime(2022, 10, 2, 7, 9), datetime.datetime(2022, 10, 2, 7, 22)], 'Title': 'regionalTrain', 'Dest': '51.37545,-0.09278'}\n",
      "{'Duration': datetime.timedelta(seconds=1140), 'Cost': None, 'Times:': [datetime.datetime(2022, 10, 2, 7, 27), datetime.datetime(2022, 10, 2, 7, 46)], 'Title': 'regionalTrain', 'Dest': '51.2402,-0.1659'}\n",
      "{'Duration': datetime.timedelta(seconds=240), 'Cost': None, 'Times:': [datetime.datetime(2022, 10, 2, 7, 51), datetime.datetime(2022, 10, 2, 7, 55)], 'Title': 'regionalTrain', 'Dest': '51.22681,-0.13253'}\n",
      "{'Duration': datetime.timedelta(seconds=60), 'Cost': 0, 'Times:': [datetime.datetime(2022, 10, 2, 7, 55), datetime.datetime(2022, 10, 2, 7, 56)], 'Title': 'pedestrian', 'Dest': '51.226568,-0.132512'}\n",
      "{'Duration': datetime.timedelta(seconds=1740), 'Cost': 0, 'Times:': [datetime.datetime(2022, 10, 2, 7, 56), datetime.datetime(2022, 10, 2, 8, 25)], 'Title': 'pedestrian', 'Dest': '51.2191,-0.1246'}\n"
     ]
    }
   ],
   "source": [
    "transport = transportFunctions()\n",
    "#print(datetime.datetime.now())\n",
    "date = datetime.datetime.now()\n",
    "date = date.replace(minute=59, hour=23, second=59, year=2022, month=10, day=1)\n",
    "a = transport.getTransportByTime(51.5061,-0.10144,51.2191,-0.1246, str(date.isoformat()))\n",
    "for i in a:\n",
    "    print(i)\n",
    "    pass"
   ]
  },
  {
   "cell_type": "code",
   "execution_count": null,
   "id": "18ec990b",
   "metadata": {},
   "outputs": [],
   "source": [
    "def planFullDay(fastPaced, attractionOptions, transportObject, xCoord, yCoord, date, usedAttractions):\n",
    "    currDate = date.replace(minute = 0, hour = 9, second=0)\n",
    "    attractionArr = []\n",
    "    transportArr = []\n",
    "    currX = xCoord\n",
    "    currY = yCoord\n",
    "    attractionCount = 2\n",
    "    if (fastPaced):\n",
    "        attractionCount = 3\n",
    "    for i in range(0, attractionCount):\n",
    "        attractionLocation = attractionOptions[i].destination.split(',')\n",
    "        destX = float(attractionLocation[0])\n",
    "        destY = float(attractionLocation[1])\n",
    "        currTransport = transport.getTransportByTime(currX, currY, destX, destY, str(currDate.isoformat()))\n",
    "        print(transport)\n",
    "        currDate = transport\n",
    "        transportArr.append()\n",
    "        attractionArr.append(attractionOptions[i])\n",
    "        usedAttractions.append(attractionOptions[i].title.lower())"
   ]
  }
 ],
 "metadata": {
  "kernelspec": {
   "display_name": "Python 3",
   "language": "python",
   "name": "python3"
  },
  "language_info": {
   "codemirror_mode": {
    "name": "ipython",
    "version": 3
   },
   "file_extension": ".py",
   "mimetype": "text/x-python",
   "name": "python",
   "nbconvert_exporter": "python",
   "pygments_lexer": "ipython3",
   "version": "3.9.1"
  }
 },
 "nbformat": 4,
 "nbformat_minor": 5
}
