{
 "cells": [
  {
   "cell_type": "code",
   "execution_count": 1,
   "id": "64e8d02e",
   "metadata": {},
   "outputs": [],
   "source": [
    "import classes\n",
    "import random\n",
    "from amadeus import Client, ResponseError\n",
    "from hotels1 import hotelFunctions\n",
    "import amadeus\n",
    "#import api\n",
    "import hotels1\n",
    "import hotelTests\n",
    "import transport\n",
    "from transport import transportFunctions\n",
    "from transport import getNZfromCity\n",
    "import datetime"
   ]
  },
  {
   "cell_type": "code",
   "execution_count": 2,
   "id": "e2d54eb0",
   "metadata": {},
   "outputs": [],
   "source": [
    "amadeus = Client(\n",
    "        client_id='CGwOmHn7cmfAIuUcbqUiaPC5LAyAvwAG',\n",
    "        client_secret='rKvILHDsjxcCh6yq'\n",
    "    )\n",
    "hotel = hotelFunctions(amadeus)"
   ]
  },
  {
   "cell_type": "code",
   "execution_count": null,
   "id": "4ebe0ad1",
   "metadata": {},
   "outputs": [],
   "source": [
    "hotels = hotel.getHotelsByGeocode(getNZfromCity('London')[0], getNZfromCity('London')[1])"
   ]
  },
  {
   "cell_type": "code",
   "execution_count": null,
   "id": "3ae42683",
   "metadata": {},
   "outputs": [],
   "source": [
    "for i in hotels:\n",
    "    print(i)"
   ]
  },
  {
   "cell_type": "code",
   "execution_count": null,
   "id": "2dcbd141",
   "metadata": {},
   "outputs": [],
   "source": [
    "transport = transportFunctions()\n",
    "transports = transport.getTransport(51.5061,-0.10144,51.2191,-0.1246)\n"
   ]
  },
  {
   "cell_type": "code",
   "execution_count": null,
   "id": "d221adb2",
   "metadata": {},
   "outputs": [],
   "source": [
    "for i in transports:\n",
    "    print(i)"
   ]
  },
  {
   "cell_type": "code",
   "execution_count": null,
   "id": "637dd6ab",
   "metadata": {},
   "outputs": [],
   "source": [
    "attractions = hotel.getActivities(32.079664, 34.767410, 2)"
   ]
  },
  {
   "cell_type": "code",
   "execution_count": null,
   "id": "c14e5015",
   "metadata": {},
   "outputs": [],
   "source": [
    "for i in attractions:\n",
    "    print(i)"
   ]
  },
  {
   "cell_type": "code",
   "execution_count": null,
   "id": "889828af",
   "metadata": {},
   "outputs": [],
   "source": [
    "def chooseCheapestHotel(hotels):\n",
    "    lowest = 1000000\n",
    "    index = 0\n",
    "    for i in range(0, len(hotels)):\n",
    "        if (hotels[i].cost < lowest):\n",
    "            index = i\n",
    "            lowest = hotels[i].cost\n",
    "    return hotels[index]\n",
    "def chooseMostLuxuriousHotel(hotels):\n",
    "    highest = 0\n",
    "    index = 0\n",
    "    for i in range(0, len(hotels)):\n",
    "        if (hotels[i].cost > highest):\n",
    "            index = i\n",
    "            highest = hotels[i].cost\n",
    "    return hotels[index]"
   ]
  },
  {
   "cell_type": "code",
   "execution_count": null,
   "id": "3365c44e",
   "metadata": {},
   "outputs": [],
   "source": [
    "lowCost = False\n",
    "luxury = True\n",
    "#shoomerShabat = False\n",
    "tripPeople = 4\n",
    "duration = 4\n",
    "museumOriented = True\n",
    "fastPaced = True\n",
    "usedAttractions = []\n",
    "maxPrice = 10000\n",
    "priceCapLeft = 10000 # maybe add mostCentralLocation implementation later\n",
    "amadeus = Client(\n",
    "    client_id='CGwOmHn7cmfAIuUcbqUiaPC5LAyAvwAG',\n",
    "    client_secret='rKvILHDsjxcCh6yq'\n",
    ")\n",
    "city = \"New York\"\n",
    "hotel = hotelFunctions(amadeus)\n",
    "transport = transportFunctions()\n",
    "#print(city)\n",
    "#print(getNZfromCity(city))\n",
    "hotels = hotel.getHotelsByGeocode(getNZfromCity(city)[0], getNZfromCity(city)[1])\n",
    "for i in hotels:\n",
    "    print(i)\n",
    "choosenHotel = None\n",
    "if (lowCost):\n",
    "    choosenHotel = chooseCheapestHotel(hotels)\n",
    "elif (luxury):\n",
    "    choosenHotel = chooseMostLuxuriousHotel(hotels)\n",
    "else:\n",
    "    choosenHotel = random.choice(hotels)\n",
    "print(choosenHotel)"
   ]
  },
  {
   "cell_type": "code",
   "execution_count": null,
   "id": "5f958ea4",
   "metadata": {},
   "outputs": [],
   "source": [
    "def cleanUsedAttractions(attractions, usedAttractions):\n",
    "    newAttractionList = []\n",
    "    for i in attractions:\n",
    "        if (i.title.lower() in usedAttractions):\n",
    "            continue\n",
    "        newAttractionList.append(i)\n",
    "    return newAttractionList"
   ]
  },
  {
   "cell_type": "code",
   "execution_count": null,
   "id": "d191f107",
   "metadata": {},
   "outputs": [],
   "source": [
    "transport = transportFunctions()\n",
    "def planFullDay(tripPeople, luxury, lowCost, museumOriented, \n",
    "                fastPaced, priceCapLeft, attractionObject, transportObject, hotel, usedAttractions, date):\n",
    "    xCoord = hotel.destination.split(',')\n",
    "    yCoord = float(xCoord[1])\n",
    "    xCoord = float(xCoord[0])\n",
    "    print(xCoord, yCoord)\n",
    "    attractions = [] # maybe add most_central_location implementation later\n",
    "    while (attractions == []):\n",
    "        attractions = attractionObject.getActivities(xCoord, yCoord, 10)\n",
    "        attractions = cleanUsedAttractions(attractions, usedAttractions)\n",
    "        noise = random.random() - 0.5 * 0.2\n",
    "        xCoord += noise\n",
    "        yCoord += noise\n",
    "    attractionOptions = []\n",
    "    for i in attractions:\n",
    "        print(i)\n",
    "    if (museumOriented):\n",
    "        for i in attractions:\n",
    "            if ('museum' in i.title.lower()):\n",
    "                attractionOptions.append(i)\n",
    "        if (attractionOptions == []):\n",
    "            attractionOptions = attractions\n",
    "            noise = random.random() - 0.5 * 0.2\n",
    "            xCoord += noise\n",
    "            yCoord += noise\n",
    "    else:\n",
    "        attractionOptions = attractions\n",
    "    if (lowCost):\n",
    "        attractionOptions.sort(key=lambda x: x.cost)\n",
    "    elif (luxury):\n",
    "        attractionOptions.sort(key=lambda x: x.cost, reverse=True)\n",
    "    day, usedAttractions = planDay(fastPaced, attractionOptions, transportObject, xCoord, yCoord, date, usedAttractions)"
   ]
  },
  {
   "cell_type": "code",
   "execution_count": null,
   "id": "6a110da2",
   "metadata": {},
   "outputs": [],
   "source": [
    "date = datetime.datetime.now()\n"
   ]
  },
  {
   "cell_type": "code",
   "execution_count": null,
   "id": "9d03bfdf",
   "metadata": {},
   "outputs": [],
   "source": [
    "print(planFullDay(tripPeople, luxury, lowCost,\n",
    "            museumOriented, fastPaced, priceCapLeft, hotel, transport, choosenHotel, usedAttractions, date))"
   ]
  },
  {
   "cell_type": "code",
   "execution_count": 40,
   "id": "ed2de536",
   "metadata": {},
   "outputs": [
    {
     "name": "stdout",
     "output_type": "stream",
     "text": [
      "{'routes': [{'id': 'C0', 'sections': [{'id': 'C0-S0', 'type': 'pedestrian', 'departure': {'time': '2022-10-02T06:50:00+01:00', 'place': {'type': 'place', 'location': {'lat': 51.5061, 'lng': -0.10144}}}, 'arrival': {'time': '2022-10-02T07:08:00+01:00', 'place': {'name': 'London Bridge Rail Station', 'type': 'accessPoint', 'location': {'lat': 51.505327, 'lng': -0.086886}}}, 'transport': {'mode': 'pedestrian'}}, {'id': 'C0-S0-arr', 'type': 'pedestrian', 'departure': {'time': '2022-10-02T07:08:00+01:00', 'place': {'name': 'London Bridge Rail Station', 'type': 'accessPoint', 'location': {'lat': 51.505327, 'lng': -0.086886}}}, 'arrival': {'time': '2022-10-02T07:09:00+01:00', 'place': {'name': 'London Bridge', 'type': 'station', 'location': {'lat': 51.50511, 'lng': -0.08609}, 'wheelchairAccessible': 'yes', 'id': '120011305', 'code': 'LNDNBDC'}}, 'spans': [{'walkAttributes': ['indoor']}], 'transport': {'mode': 'pedestrian'}}, {'id': 'C0-S1', 'type': 'transit', 'departure': {'time': '2022-10-02T07:09:00+01:00', 'place': {'name': 'London Bridge', 'type': 'station', 'location': {'lat': 51.50511, 'lng': -0.08609}, 'wheelchairAccessible': 'yes', 'id': '120011305', 'code': 'LNDNBDC'}}, 'arrival': {'time': '2022-10-02T07:22:00+01:00', 'place': {'name': 'East Croydon', 'type': 'station', 'location': {'lat': 51.37545, 'lng': -0.09278}, 'wheelchairAccessible': 'yes', 'id': '120010724', 'code': 'ECROYDN'}}, 'transport': {'mode': 'regionalTrain', 'name': 'Thameslink', 'category': 'Rail', 'color': '#30104D', 'textColor': '#FFFFFF', 'headsign': '11', 'shortName': 'Thameslink', 'longName': 'London Bridge - Brighton'}, 'agency': {'id': '99939_31a923d', 'name': 'Thameslink', 'website': 'https://www.thameslinkrailway.com/'}}, {'id': 'C0-S2', 'type': 'transit', 'departure': {'time': '2022-10-02T07:27:00+01:00', 'place': {'name': 'East Croydon', 'type': 'station', 'location': {'lat': 51.37545, 'lng': -0.09278}, 'wheelchairAccessible': 'yes', 'id': '120010724', 'code': 'ECROYDN'}}, 'arrival': {'time': '2022-10-02T07:46:00+01:00', 'place': {'name': 'Redhill', 'type': 'station', 'location': {'lat': 51.2402, 'lng': -0.1659}, 'wheelchairAccessible': 'yes', 'id': '120011857', 'code': 'REDHILL'}}, 'transport': {'mode': 'regionalTrain', 'name': 'Southern', 'category': 'Rail', 'color': '#003F2E', 'textColor': '#FFE100', 'headsign': '6', 'shortName': 'Southern', 'longName': 'London Victoria - Brighton'}, 'agency': {'id': '99939_36602fa', 'name': 'Southern', 'website': 'https://www.southernrailway.com/'}}, {'id': 'C0-S3', 'type': 'transit', 'departure': {'time': '2022-10-02T07:51:00+01:00', 'place': {'name': 'Redhill', 'type': 'station', 'location': {'lat': 51.2402, 'lng': -0.1659}, 'wheelchairAccessible': 'yes', 'id': '120011857', 'code': 'REDHILL'}}, 'arrival': {'time': '2022-10-02T07:55:00+01:00', 'place': {'name': 'Nutfield', 'type': 'station', 'location': {'lat': 51.22681, 'lng': -0.13253}, 'wheelchairAccessible': 'yes', 'id': '120011654', 'code': 'NUTFILD'}}, 'transport': {'mode': 'regionalTrain', 'name': 'Southern', 'category': 'Rail', 'color': '#003F2E', 'textColor': '#FFE100', 'headsign': '1', 'shortName': 'Southern', 'longName': 'Redhill - Tonbridge'}, 'agency': {'id': '99939_36602fa', 'name': 'Southern', 'website': 'https://www.southernrailway.com/'}}, {'id': 'C0-S4-dep', 'type': 'pedestrian', 'departure': {'time': '2022-10-02T07:55:00+01:00', 'place': {'name': 'Nutfield', 'type': 'station', 'location': {'lat': 51.22681, 'lng': -0.13253}, 'wheelchairAccessible': 'yes', 'id': '120011654', 'code': 'NUTFILD'}}, 'arrival': {'time': '2022-10-02T07:56:00+01:00', 'place': {'name': 'Nutfield Rail Station', 'type': 'accessPoint', 'location': {'lat': 51.226568, 'lng': -0.132512}}}, 'spans': [{'walkAttributes': ['indoor']}], 'transport': {'mode': 'pedestrian'}}, {'id': 'C0-S4', 'type': 'pedestrian', 'departure': {'time': '2022-10-02T07:56:00+01:00', 'place': {'name': 'Nutfield Rail Station', 'type': 'accessPoint', 'location': {'lat': 51.226568, 'lng': -0.132512}}}, 'arrival': {'time': '2022-10-02T08:25:00+01:00', 'place': {'type': 'place', 'location': {'lat': 51.2191, 'lng': -0.1246}}}, 'transport': {'mode': 'pedestrian'}}]}]}\n",
      "{'Duration': datetime.timedelta(seconds=1080), 'Cost': 0, 'Times:': [datetime.datetime(2022, 10, 2, 6, 50), datetime.datetime(2022, 10, 2, 7, 8)], 'Title': 'pedestrian', 'Dest': '51.505327,-0.086886'}\n",
      "{'Duration': datetime.timedelta(seconds=60), 'Cost': 0, 'Times:': [datetime.datetime(2022, 10, 2, 7, 8), datetime.datetime(2022, 10, 2, 7, 9)], 'Title': 'pedestrian', 'Dest': '51.50511,-0.08609'}\n",
      "{'Duration': datetime.timedelta(seconds=780), 'Cost': None, 'Times:': [datetime.datetime(2022, 10, 2, 7, 9), datetime.datetime(2022, 10, 2, 7, 22)], 'Title': 'regionalTrain', 'Dest': '51.37545,-0.09278'}\n",
      "{'Duration': datetime.timedelta(seconds=1140), 'Cost': None, 'Times:': [datetime.datetime(2022, 10, 2, 7, 27), datetime.datetime(2022, 10, 2, 7, 46)], 'Title': 'regionalTrain', 'Dest': '51.2402,-0.1659'}\n",
      "{'Duration': datetime.timedelta(seconds=240), 'Cost': None, 'Times:': [datetime.datetime(2022, 10, 2, 7, 51), datetime.datetime(2022, 10, 2, 7, 55)], 'Title': 'regionalTrain', 'Dest': '51.22681,-0.13253'}\n",
      "{'Duration': datetime.timedelta(seconds=60), 'Cost': 0, 'Times:': [datetime.datetime(2022, 10, 2, 7, 55), datetime.datetime(2022, 10, 2, 7, 56)], 'Title': 'pedestrian', 'Dest': '51.226568,-0.132512'}\n",
      "{'Duration': datetime.timedelta(seconds=1740), 'Cost': 0, 'Times:': [datetime.datetime(2022, 10, 2, 7, 56), datetime.datetime(2022, 10, 2, 8, 25)], 'Title': 'pedestrian', 'Dest': '51.2191,-0.1246'}\n"
     ]
    }
   ],
   "source": [
    "transport = transportFunctions()\n",
    "#print(datetime.datetime.now())\n",
    "date = datetime.datetime.now()\n",
    "date = date.replace(minute=59, hour=23, second=59, year=2022, month=10, day=1)\n",
    "a = transport.getTransportByTime(51.5061,-0.10144,51.2191,-0.1246, str(date.isoformat()))\n",
    "for i in a:\n",
    "    print(i)\n",
    "    pass"
   ]
  },
  {
   "cell_type": "code",
   "execution_count": 14,
   "id": "18ec990b",
   "metadata": {},
   "outputs": [],
   "source": [
    "def planDay(fastPaced, attractionOptions, transportObject, xCoord, yCoord, date, usedAttractions):\n",
    "    currDate = date.replace(minute = 0, hour = 9, second=0)\n",
    "    attractionArr = []\n",
    "    transportArr = []\n",
    "    currX = xCoord\n",
    "    currY = yCoord\n",
    "    attractionCount = 2\n",
    "    if (fastPaced):\n",
    "        attractionCount = 3\n",
    "    for i in range(0, attractionCount):\n",
    "        attractionLocation = attractionOptions[i].destination.split(',')\n",
    "        destX = float(attractionLocation[0])\n",
    "        destY = float(attractionLocation[1])\n",
    "        print(currX, currY, destX, destY, str(currDate.isoformat()))\n",
    "        currTransport = transport.getTransportByTime(currX, currY, destX, destY, str(currDate.isoformat()))\n",
    "        currX = destX\n",
    "        currY = destY\n",
    "        print(currTransport)\n",
    "        currDate = currTransport[-1].timeEnd\n",
    "        currDate = currDate + datetime.timedelta(minutes=5)\n",
    "        transportArr.append(transport)\n",
    "        attractionOptions[i].timeStart = currDate\n",
    "        currDate = currDate + datetime.timedelta(hours=3)\n",
    "        attractionOptions[i].timeEnd = currDate\n",
    "        currDate = currDate + datetime.timedelta(minutes=5)\n",
    "        attractionArr.append(attractionOptions[i])\n",
    "        usedAttractions.append(attractionOptions[i].title.lower())"
   ]
  },
  {
   "cell_type": "code",
   "execution_count": null,
   "id": "c26b6c8a",
   "metadata": {},
   "outputs": [],
   "source": []
  }
 ],
 "metadata": {
  "kernelspec": {
   "display_name": "Python 3",
   "language": "python",
   "name": "python3"
  },
  "language_info": {
   "codemirror_mode": {
    "name": "ipython",
    "version": 3
   },
   "file_extension": ".py",
   "mimetype": "text/x-python",
   "name": "python",
   "nbconvert_exporter": "python",
   "pygments_lexer": "ipython3",
   "version": "3.9.1"
  }
 },
 "nbformat": 4,
 "nbformat_minor": 5
}
