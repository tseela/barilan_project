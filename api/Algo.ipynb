{
 "cells": [
  {
   "cell_type": "code",
   "execution_count": 1,
   "id": "64e8d02e",
   "metadata": {},
   "outputs": [],
   "source": [
    "import classes\n",
    "import random\n",
    "from amadeus import Client, ResponseError\n",
    "from hotels1 import hotelFunctions\n",
    "import amadeus\n",
    "#import api\n",
    "import hotels1\n",
    "import hotelTests\n",
    "import transport\n",
    "from transport import transportFunctions\n",
    "from transport import getNZfromCity\n",
    "import datetime"
   ]
  },
  {
   "cell_type": "code",
   "execution_count": 2,
   "id": "e2d54eb0",
   "metadata": {},
   "outputs": [],
   "source": [
    "amadeus = Client(\n",
    "        client_id='CGwOmHn7cmfAIuUcbqUiaPC5LAyAvwAG',\n",
    "        client_secret='rKvILHDsjxcCh6yq'\n",
    "    )\n",
    "hotel = hotelFunctions(amadeus)"
   ]
  },
  {
   "cell_type": "code",
   "execution_count": 3,
   "id": "4ebe0ad1",
   "metadata": {},
   "outputs": [
    {
     "name": "stdout",
     "output_type": "stream",
     "text": [
      "Those are it: 'media'\n"
     ]
    }
   ],
   "source": [
    "hotels = hotel.getHotelsByGeocode(getNZfromCity('London')[0], getNZfromCity('London')[1])"
   ]
  },
  {
   "cell_type": "code",
   "execution_count": 4,
   "id": "3ae42683",
   "metadata": {},
   "outputs": [
    {
     "name": "stdout",
     "output_type": "stream",
     "text": [
      "{'Duration': None, 'Cost': 219.0, 'Times:': ['2022-06-18', '2022-06-19'], 'Title': 'HOLIDAY INN EXP SOUTHWARK ST', 'Dest': '51.5061,-0.10144'}\n",
      "{'Duration': None, 'Cost': 196.63, 'Times:': ['2022-06-18', '2022-06-19'], 'Title': 'London Blackfriars', 'Dest': '51.5131,-0.10561'}\n",
      "{'Duration': None, 'Cost': 207.63, 'Times:': ['2022-06-18', '2022-06-19'], 'Title': 'London Waterloo', 'Dest': '51.50329,-0.11521'}\n",
      "{'Duration': None, 'Cost': 367.0, 'Times:': ['2022-06-18', '2022-06-19'], 'Title': 'Andaz Liverpool Street London', 'Dest': '51.51651,-0.08191'}\n",
      "{'Duration': None, 'Cost': 449.0, 'Times:': ['2022-06-18', '2022-06-19'], 'Title': 'THE WALDORF HILTON', 'Dest': '51.51264,-0.11937'}\n",
      "{'Duration': None, 'Cost': 285.0, 'Times:': ['2022-06-18', '2022-06-19'], 'Title': 'DOUBLETREE TOWER OF LONDON', 'Dest': '51.51091,-0.07849'}\n",
      "{'Duration': None, 'Cost': 202.63, 'Times:': ['2022-06-18', '2022-06-19'], 'Title': 'London Tower Bridge', 'Dest': '51.50003,-0.0815'}\n",
      "{'Duration': None, 'Cost': 221.63, 'Times:': ['2022-06-18', '2022-06-19'], 'Title': 'London County Hall', 'Dest': '51.50147,-0.11876'}\n",
      "{'Duration': None, 'Cost': 324.0, 'Times:': ['2022-06-18', '2022-06-19'], 'Title': 'DOUBLETREE LONDON WEST END', 'Dest': '51.51985,-0.12213'}\n",
      "{'Duration': None, 'Cost': 75.06, 'Times:': ['2022-06-18', '2022-06-19'], 'Title': 'ibis London City - Shoreditch', 'Dest': '51.51534,-0.07197'}\n"
     ]
    }
   ],
   "source": [
    "for i in hotels:\n",
    "    print(i)"
   ]
  },
  {
   "cell_type": "code",
   "execution_count": 5,
   "id": "2dcbd141",
   "metadata": {},
   "outputs": [],
   "source": [
    "transport = transportFunctions()\n",
    "transports = transport.getTransport(51.5061,-0.10144,51.2191,-0.1246)\n"
   ]
  },
  {
   "cell_type": "code",
   "execution_count": 6,
   "id": "d221adb2",
   "metadata": {},
   "outputs": [
    {
     "name": "stdout",
     "output_type": "stream",
     "text": [
      "{'Duration': datetime.timedelta(seconds=360), 'Cost': 0, 'Times:': [datetime.datetime(2022, 6, 18, 18, 2), datetime.datetime(2022, 6, 18, 18, 8)], 'Title': 'pedestrian', 'Dest': '51.508517,-0.103367'}\n",
      "{'Duration': datetime.timedelta(seconds=360), 'Cost': 0, 'Times:': [datetime.datetime(2022, 6, 18, 18, 8), datetime.datetime(2022, 6, 18, 18, 14)], 'Title': 'pedestrian', 'Dest': '51.51181,-0.10333'}\n",
      "{'Duration': datetime.timedelta(seconds=2280), 'Cost': None, 'Times:': [datetime.datetime(2022, 6, 18, 18, 14), datetime.datetime(2022, 6, 18, 18, 52)], 'Title': 'regionalTrain', 'Dest': '51.2402,-0.1659'}\n",
      "{'Duration': datetime.timedelta(seconds=240), 'Cost': None, 'Times:': [datetime.datetime(2022, 6, 18, 19, 0), datetime.datetime(2022, 6, 18, 19, 4)], 'Title': 'regionalTrain', 'Dest': '51.22681,-0.13253'}\n",
      "{'Duration': datetime.timedelta(seconds=60), 'Cost': 0, 'Times:': [datetime.datetime(2022, 6, 18, 19, 4), datetime.datetime(2022, 6, 18, 19, 5)], 'Title': 'pedestrian', 'Dest': '51.226568,-0.132512'}\n",
      "{'Duration': datetime.timedelta(seconds=1740), 'Cost': 0, 'Times:': [datetime.datetime(2022, 6, 18, 19, 5), datetime.datetime(2022, 6, 18, 19, 34)], 'Title': 'pedestrian', 'Dest': '51.2191,-0.1246'}\n"
     ]
    }
   ],
   "source": [
    "for i in transports:\n",
    "    print(i)"
   ]
  },
  {
   "cell_type": "code",
   "execution_count": 7,
   "id": "637dd6ab",
   "metadata": {},
   "outputs": [],
   "source": [
    "attractions = hotel.getActivities(32.079664, 34.767410, 2)"
   ]
  },
  {
   "cell_type": "code",
   "execution_count": 8,
   "id": "c14e5015",
   "metadata": {},
   "outputs": [
    {
     "name": "stdout",
     "output_type": "stream",
     "text": [
      "{'Duration': None, 'Cost': 25.0, 'Times:': [None, None], 'Title': 'Tel Aviv Pub Crawl', 'Dest': '32.075996,34.766022'}\n",
      "{'Duration': None, 'Cost': 96.0, 'Times:': [None, None], 'Title': 'From Jerusalem: Masada and Dead Sea Tour', 'Dest': '32.075565,34.767686'}\n",
      "{'Duration': None, 'Cost': 34.0, 'Times:': [None, None], 'Title': 'Tel Aviv: Street Food Tour', 'Dest': '32.077840,34.777979'}\n",
      "{'Duration': None, 'Cost': 80.0, 'Times:': [None, None], 'Title': 'Jerusalem Day Tour from Tel Aviv', 'Dest': '32.073954,34.765815'}\n",
      "{'Duration': None, 'Cost': 65.0, 'Times:': [None, None], 'Title': 'Tel Aviv: Jerusalem Old City Late Morning Tour', 'Dest': '32.074602,34.768443'}\n",
      "{'Duration': None, 'Cost': 53.0, 'Times:': [None, None], 'Title': 'Tel Aviv: Private Group Guided Bike Tour', 'Dest': '32.074815,34.767932'}\n"
     ]
    }
   ],
   "source": [
    "for i in attractions:\n",
    "    print(i)"
   ]
  },
  {
   "cell_type": "code",
   "execution_count": 9,
   "id": "889828af",
   "metadata": {},
   "outputs": [],
   "source": [
    "def chooseCheapestHotel(hotels):\n",
    "    lowest = 1000000\n",
    "    index = 0\n",
    "    for i in range(0, len(hotels)):\n",
    "        if (hotels[i].cost < lowest):\n",
    "            index = i\n",
    "            lowest = hotels[i].cost\n",
    "    return hotels[index]\n",
    "def chooseMostLuxuriousHotel(hotels):\n",
    "    highest = 0\n",
    "    index = 0\n",
    "    for i in range(0, len(hotels)):\n",
    "        if (hotels[i].cost > highest):\n",
    "            index = i\n",
    "            highest = hotels[i].cost\n",
    "    return hotels[index]"
   ]
  },
  {
   "cell_type": "code",
   "execution_count": 53,
   "id": "3365c44e",
   "metadata": {},
   "outputs": [
    {
     "name": "stdout",
     "output_type": "stream",
     "text": [
      "{'Duration': None, 'Cost': 153.0, 'Times:': ['2022-06-18', '2022-06-19'], 'Title': 'Best Western Regency Suites', 'Dest': '32.07979,34.76793'}\n",
      "{'Duration': None, 'Cost': 467.1, 'Times:': ['2022-06-18', '2022-06-19'], 'Title': 'Sheraton Tel Aviv', 'Dest': '32.08171,34.76821'}\n",
      "{'Duration': None, 'Cost': 467.1, 'Times:': ['2022-06-18', '2022-06-19'], 'Title': 'Sheraton Tel Aviv', 'Dest': '32.08171,34.76821'}\n"
     ]
    }
   ],
   "source": [
    "lowCost = False\n",
    "luxury = True\n",
    "#shoomerShabat = False\n",
    "tripPeople = 4\n",
    "duration = 4\n",
    "museumOriented = True\n",
    "fastPaced = True\n",
    "usedAttractions = []\n",
    "maxPrice = 10000\n",
    "priceCapLeft = 10000 # maybe add mostCentralLocation implementation later\n",
    "amadeus = Client(\n",
    "    client_id='CGwOmHn7cmfAIuUcbqUiaPC5LAyAvwAG',\n",
    "    client_secret='rKvILHDsjxcCh6yq'\n",
    ")\n",
    "city = \"Tel Aviv\"\n",
    "hotel = hotelFunctions(amadeus)\n",
    "transport = transportFunctions()\n",
    "#print(city)\n",
    "#print(getNZfromCity(city))\n",
    "hotels = hotel.getHotelsByGeocode(getNZfromCity(city)[0], getNZfromCity(city)[1])\n",
    "for i in hotels:\n",
    "    print(i)\n",
    "choosenHotel = None\n",
    "if (lowCost):\n",
    "    choosenHotel = chooseCheapestHotel(hotels)\n",
    "elif (luxury):\n",
    "    choosenHotel = chooseMostLuxuriousHotel(hotels)\n",
    "else:\n",
    "    choosenHotel = random.choice(hotels)\n",
    "print(choosenHotel)"
   ]
  },
  {
   "cell_type": "code",
   "execution_count": 54,
   "id": "5f958ea4",
   "metadata": {},
   "outputs": [],
   "source": [
    "def cleanUsedAttractions(attractions, usedAttractions):\n",
    "    newAttractionList = []\n",
    "    for i in attractions:\n",
    "        if (i.title.lower() in usedAttractions):\n",
    "            continue\n",
    "        newAttractionList.append(i)\n",
    "    return newAttractionList"
   ]
  },
  {
   "cell_type": "code",
   "execution_count": 60,
   "id": "d191f107",
   "metadata": {},
   "outputs": [],
   "source": [
    "transport = transportFunctions()\n",
    "def planFullDay(tripPeople, luxury, lowCost, museumOriented, \n",
    "                fastPaced, priceCapLeft, attractionObject, transportObject, hotel, usedAttractions, date):\n",
    "    xCoord = hotel.destination.split(',')\n",
    "    yCoord = float(xCoord[1])\n",
    "    xCoord = float(xCoord[0])\n",
    "    print(xCoord, yCoord)\n",
    "    attractions = [] # maybe add most_central_location implementation later\n",
    "    while (attractions == [] or len(attractions) < 3):\n",
    "        attractions = attractionObject.getActivities(xCoord, yCoord, 10)\n",
    "        attractions = cleanUsedAttractions(attractions, usedAttractions)\n",
    "        noise = (random.random() - 0.5) * 0.2\n",
    "        xCoord += noise\n",
    "        yCoord += noise\n",
    "    attractionOptions = []\n",
    "    for i in attractions:\n",
    "        print(i)\n",
    "    if (museumOriented):\n",
    "        for i in attractions:\n",
    "            if ('museum' in i.title.lower()):\n",
    "                attractionOptions.append(i)\n",
    "        if (attractionOptions == []):\n",
    "            attractionOptions = attractions\n",
    "            noise = (random.random() - 0.5) * 0.2\n",
    "            xCoord += noise\n",
    "            yCoord += noise\n",
    "    else:\n",
    "        attractionOptions = attractions\n",
    "    if (lowCost):\n",
    "        attractionOptions.sort(key=lambda x: x.cost)\n",
    "    elif (luxury):\n",
    "        attractionOptions.sort(key=lambda x: x.cost, reverse=True)\n",
    "    day, usedAttractions = planDay(fastPaced, attractionOptions, transportObject, xCoord, yCoord, date, usedAttractions)"
   ]
  },
  {
   "cell_type": "code",
   "execution_count": 61,
   "id": "d9577a22",
   "metadata": {},
   "outputs": [],
   "source": [
    "date = datetime.datetime.now()\n",
    "date = date.replace(minute=59, hour=23, second=59, year=2022, month=7, day=1)"
   ]
  },
  {
   "cell_type": "code",
   "execution_count": 62,
   "id": "9d03bfdf",
   "metadata": {},
   "outputs": [
    {
     "name": "stdout",
     "output_type": "stream",
     "text": [
      "32.08171 34.76821\n",
      "{'Duration': None, 'Cost': 25.0, 'Times:': [None, None], 'Title': 'Tel Aviv Pub Crawl', 'Dest': '32.075996,34.766022'}\n",
      "{'Duration': None, 'Cost': 96.0, 'Times:': [None, None], 'Title': 'From Jerusalem: Masada and Dead Sea Tour', 'Dest': '32.075565,34.767686'}\n",
      "{'Duration': None, 'Cost': 34.0, 'Times:': [None, None], 'Title': 'Tel Aviv: Street Food Tour', 'Dest': '32.077840,34.777979'}\n",
      "{'Duration': None, 'Cost': 80.0, 'Times:': [None, None], 'Title': 'Jerusalem Day Tour from Tel Aviv', 'Dest': '32.073954,34.765815'}\n",
      "{'Duration': None, 'Cost': 65.0, 'Times:': [None, None], 'Title': 'Tel Aviv: Jerusalem Old City Late Morning Tour', 'Dest': '32.074602,34.768443'}\n",
      "{'Duration': None, 'Cost': 53.0, 'Times:': [None, None], 'Title': 'Tel Aviv: Private Group Guided Bike Tour', 'Dest': '32.074815,34.767932'}\n",
      "THE DATE IS: 2022-07-01 09:00:00.924060\n",
      "32.22346530994004 34.90996530994004 32.075565 34.767686 2022-07-01T09:00:00.924060\n",
      "{'routes': [{'id': 'C0', 'sections': [{'id': 'C0-S0', 'type': 'pedestrian', 'departure': {'time': '2022-07-01T09:36:00+03:00', 'place': {'type': 'place', 'location': {'lat': 32.223465, 'lng': 34.909965}}}, 'arrival': {'time': '2022-07-01T09:53:00+03:00', 'place': {'name': 'Office', 'type': 'station', 'location': {'lat': 32.228621, 'lng': 34.917733}, 'id': '415846609', 'code': '37913'}}, 'transport': {'mode': 'pedestrian'}}, {'id': 'C0-S1', 'type': 'transit', 'departure': {'time': '2022-07-01T09:53:00+03:00', 'place': {'name': 'Office', 'type': 'station', 'location': {'lat': 32.228621, 'lng': 34.917733}, 'id': '415846609', 'code': '37913'}}, 'arrival': {'time': '2022-07-01T09:59:00+03:00', 'place': {'name': 'HaDekel/Hakalanit', 'type': 'station', 'location': {'lat': 32.248448, 'lng': 34.915964}, 'id': '415866814', 'code': '30467'}}, 'transport': {'mode': 'bus', 'name': '42', 'category': 'Bus', 'headsign': 'נתניה_תחנה מרכזית', 'shortName': '42', 'longName': \"'כפר הס ד-כפר הס<->ת. מרכזית נתניה/הורדה-נתניה-20\"}, 'agency': {'id': '24266_4ec9599', 'name': 'קווים', 'website': 'http://www.kavim-t.co.il'}}, {'id': 'C0-S2', 'type': 'pedestrian', 'departure': {'time': '2022-07-01T09:59:00+03:00', 'place': {'name': 'HaDekel/Hakalanit', 'type': 'station', 'location': {'lat': 32.248448, 'lng': 34.915964}, 'id': '415866814', 'code': '30467'}}, 'arrival': {'time': '2022-07-01T10:02:00+03:00', 'place': {'name': 'HaDekel/Hakalanit', 'type': 'station', 'location': {'lat': 32.248511, 'lng': 34.915812}, 'id': '415827768', 'code': '39398'}}, 'transport': {'mode': 'pedestrian'}}, {'id': 'C0-S3', 'type': 'transit', 'departure': {'time': '2022-07-01T10:30:00+03:00', 'place': {'name': 'HaDekel/Hakalanit', 'type': 'station', 'location': {'lat': 32.248511, 'lng': 34.915812}, 'id': '415827768', 'code': '39398'}}, 'arrival': {'time': '2022-07-01T10:34:00+03:00', 'place': {'name': 'Dror Interchange to West', 'type': 'station', 'location': {'lat': 32.255041, 'lng': 34.88821}, 'id': '415866149', 'code': '36477'}}, 'transport': {'mode': 'bus', 'name': '12', 'category': 'Bus', 'color': '#33CC33', 'headsign': 'בית יהושע_תחנת הרכבת', 'shortName': '12', 'longName': 'דרך לב השרון/האילן-קדימה צורן<->ת. רכבת בית יהושע-בית יהושע-20'}, 'agency': {'id': '24266_4ec9599', 'name': 'קווים', 'website': 'http://www.kavim-t.co.il'}}, {'id': 'C0-S4', 'type': 'pedestrian', 'departure': {'time': '2022-07-01T10:34:00+03:00', 'place': {'name': 'Dror Interchange to West', 'type': 'station', 'location': {'lat': 32.255041, 'lng': 34.88821}, 'id': '415866149', 'code': '36477'}}, 'arrival': {'time': '2022-07-01T10:39:00+03:00', 'place': {'name': 'Dror Interchange to South', 'type': 'station', 'location': {'lat': 32.254064, 'lng': 34.88915}, 'id': '415852371', 'code': '36476'}}, 'transport': {'mode': 'pedestrian'}}, {'id': 'C0-S5', 'type': 'transit', 'departure': {'time': '2022-07-01T10:40:00+03:00', 'place': {'name': 'Dror Interchange to South', 'type': 'station', 'location': {'lat': 32.254064, 'lng': 34.88915}, 'id': '415852371', 'code': '36476'}}, 'arrival': {'time': '2022-07-01T11:17:00+03:00', 'place': {'name': \"Ze'ev Jabotinsky Road/Meir Dankner\", 'type': 'station', 'location': {'lat': 32.091101, 'lng': 34.872488}, 'id': '415860740', 'code': '32271'}}, 'transport': {'mode': 'bus', 'name': '921', 'category': 'Bus', 'headsign': 'פתח תקווה_רכבת קרית אריה', 'shortName': '921', 'longName': 'ת. מרכזית חוף הכרמל/רציפים בינעירוני-חיפה<->רכבת קריית אריה/חנה וסע-פתח תקווה-2ד'}, 'agency': {'id': '24266_4e07408', 'name': 'אגד', 'website': 'http://www.egged.co.il'}}, {'id': 'C0-S6', 'type': 'transit', 'departure': {'time': '2022-07-01T11:19:00+03:00', 'place': {'name': \"Ze'ev Jabotinsky Road/Meir Dankner\", 'type': 'station', 'location': {'lat': 32.091101, 'lng': 34.872488}, 'id': '415860740', 'code': '32271'}}, 'arrival': {'time': '2022-07-01T11:57:00+03:00', 'place': {'name': 'Trumpeldor/Ben Yehuda', 'type': 'station', 'location': {'lat': 32.075514, 'lng': 34.767296}, 'id': '415809468', 'code': '20133'}}, 'transport': {'mode': 'bus', 'name': '66', 'category': 'Bus', 'headsign': 'תל אביב יפו_מסוף כרמלית', 'shortName': '66', 'longName': \"ת. מרכזית פ''ת/רציפים עירוני-פתח תקווה<->מסוף כרמלית-תל אביב יפו-10\"}, 'agency': {'id': '24266_ef2d127', 'name': 'דן', 'website': 'http://www.dan.co.il'}}, {'id': 'C0-S7', 'type': 'pedestrian', 'departure': {'time': '2022-07-01T11:57:00+03:00', 'place': {'name': 'Trumpeldor/Ben Yehuda', 'type': 'station', 'location': {'lat': 32.075514, 'lng': 34.767296}, 'id': '415809468', 'code': '20133'}}, 'arrival': {'time': '2022-07-01T11:58:00+03:00', 'place': {'type': 'place', 'location': {'lat': 32.075565, 'lng': 34.767686}}}, 'transport': {'mode': 'pedestrian'}}]}]}\n",
      "[<classes.Transport object at 0x000002BD577F1970>, <classes.Transport object at 0x000002BD5649D1F0>, <classes.Transport object at 0x000002BD56498910>, <classes.Transport object at 0x000002BD567A8BE0>, <classes.Transport object at 0x000002BD567A84C0>, <classes.Transport object at 0x000002BD564AB850>, <classes.Transport object at 0x000002BD564AB4C0>, <classes.Transport object at 0x000002BD57833DC0>]\n",
      "32.075565 34.767686 32.073954 34.765815 2022-07-01T16:03:00\n",
      "{'notices': [{'title': 'Departure and arrival locations are too close', 'code': 'departureArrivalTooClose'}, {'title': 'Transit route between origin and destination is not possible given current input parameters', 'code': 'noTransitRouteFound'}], 'routes': [{'id': '1b0129a6-e24d-4f72-866e-cca1a90d290d', 'sections': [{'id': '5affb339-6afa-4785-87d0-e62136d96a96', 'type': 'pedestrian', 'departure': {'time': '2022-07-01T16:03:00+03:00', 'place': {'type': 'place', 'location': {'lat': 32.0754568, 'lng': 34.7676819}}}, 'arrival': {'time': '2022-07-01T16:08:15+03:00', 'place': {'type': 'place', 'location': {'lat': 32.0742493, 'lng': 34.76592}}}, 'transport': {'mode': 'pedestrian'}}]}]}\n",
      "[<classes.Transport object at 0x000002BD57909AF0>]\n",
      "The date at the end is 2022-07-01 20:13:15\n",
      "{'routes': [{'id': 'C0', 'sections': [{'id': 'C0-S0', 'type': 'pedestrian', 'departure': {'time': '2022-07-02T20:53:00+03:00', 'place': {'type': 'place', 'location': {'lat': 32.073954, 'lng': 34.765815}}}, 'arrival': {'time': '2022-07-02T20:56:00+03:00', 'place': {'name': 'HaYarkon/Trumpeldor', 'type': 'station', 'location': {'lat': 32.07536, 'lng': 34.766633}, 'id': '415801427', 'code': '20657'}}, 'transport': {'mode': 'pedestrian'}}, {'id': 'C0-S1', 'type': 'transit', 'departure': {'time': '2022-07-02T20:56:00+03:00', 'place': {'name': 'HaYarkon/Trumpeldor', 'type': 'station', 'location': {'lat': 32.07536, 'lng': 34.766633}, 'id': '415801427', 'code': '20657'}}, 'arrival': {'time': '2022-07-02T21:09:00+03:00', 'place': {'name': 'Azrieli Mall/Menahem Begin Road', 'type': 'station', 'location': {'lat': 32.07491, 'lng': 34.791286}, 'id': '415837761', 'code': '23014'}}, 'transport': {'mode': 'bus', 'name': '63', 'category': 'Bus', 'headsign': 'רמת גן_אלוף שדה', 'shortName': '63', 'longName': 'כרמלית-תל אביב יפו<->מסוף אלוף שדה-רמת גן-10'}, 'agency': {'id': '24266_ef2d127', 'name': 'דן', 'website': 'http://www.dan.co.il'}}, {'id': 'C0-S2', 'type': 'pedestrian', 'departure': {'time': '2022-07-02T21:09:00+03:00', 'place': {'name': 'Azrieli Mall/Menahem Begin Road', 'type': 'station', 'location': {'lat': 32.07491, 'lng': 34.791286}, 'id': '415837761', 'code': '23014'}}, 'arrival': {'time': '2022-07-02T21:14:00+03:00', 'place': {'name': 'Azrieli Mall/Menahem Begin Road', 'type': 'station', 'location': {'lat': 32.075758, 'lng': 34.791549}, 'id': '415837655', 'code': '21669'}}, 'transport': {'mode': 'pedestrian'}}, {'id': 'C0-S3', 'type': 'transit', 'departure': {'time': '2022-07-02T21:15:00+03:00', 'place': {'name': 'Azrieli Mall/Menahem Begin Road', 'type': 'station', 'location': {'lat': 32.075758, 'lng': 34.791549}, 'id': '415837655', 'code': '21669'}}, 'arrival': {'time': '2022-07-02T21:46:00+03:00', 'place': {'name': 'Netanya Interchange', 'type': 'station', 'location': {'lat': 32.324197, 'lng': 34.867696}, 'id': '415844767', 'code': '34202'}}, 'transport': {'mode': 'bus', 'name': '910', 'category': 'Bus', 'headsign': 'חיפה_מרכזית חוף הכרמל', 'shortName': '910', 'longName': 'ת.מרכזית תל אביב קומה 7/רציפים-תל אביב יפו<->ת. מרכזית חוף הכרמל/הורדה-חיפה-1#'}, 'agency': {'id': '24266_4e07408', 'name': 'אגד', 'website': 'http://www.egged.co.il'}}, {'id': 'C0-S4', 'type': 'pedestrian', 'departure': {'time': '2022-07-02T21:46:00+03:00', 'place': {'name': 'Netanya Interchange', 'type': 'station', 'location': {'lat': 32.324197, 'lng': 34.867696}, 'id': '415844767', 'code': '34202'}}, 'arrival': {'time': '2022-07-02T21:51:00+03:00', 'place': {'name': 'Netanya Interchange', 'type': 'station', 'location': {'lat': 32.323729, 'lng': 34.867107}, 'id': '415839237', 'code': '30856'}}, 'transport': {'mode': 'pedestrian'}}, {'id': 'C0-S5', 'type': 'transit', 'departure': {'time': '2022-07-02T22:02:00+03:00', 'place': {'name': 'Netanya Interchange', 'type': 'station', 'location': {'lat': 32.323729, 'lng': 34.867107}, 'id': '415839237', 'code': '30856'}}, 'arrival': {'time': '2022-07-02T22:39:00+03:00', 'place': {'name': 'Office', 'type': 'station', 'location': {'lat': 32.228621, 'lng': 34.917733}, 'id': '415846609', 'code': '37913'}}, 'transport': {'mode': 'bus', 'name': '43', 'category': 'Bus', 'headsign': 'כפר הס_מרכז', 'shortName': '43', 'longName': \"ת. מרכזית נתניה/רציפים-נתניה<->'כפר הס ד-כפר הס-10\"}, 'agency': {'id': '24266_4ec9599', 'name': 'קווים', 'website': 'http://www.kavim-t.co.il'}}, {'id': 'C0-S6', 'type': 'pedestrian', 'departure': {'time': '2022-07-02T22:39:00+03:00', 'place': {'name': 'Office', 'type': 'station', 'location': {'lat': 32.228621, 'lng': 34.917733}, 'id': '415846609', 'code': '37913'}}, 'arrival': {'time': '2022-07-02T22:56:00+03:00', 'place': {'type': 'place', 'location': {'lat': 32.223465, 'lng': 34.909965}}}, 'transport': {'mode': 'pedestrian'}}]}]}\n",
      "Found Attractions:\n",
      "\n",
      "\n",
      "\n",
      "{'Duration': None, 'Cost': 96.0, 'Times:': [datetime.datetime(2022, 7, 1, 12, 3), datetime.datetime(2022, 7, 1, 15, 3)], 'Title': 'From Jerusalem: Masada and Dead Sea Tour', 'Dest': '32.075565,34.767686'}\n",
      "{'Duration': None, 'Cost': 80.0, 'Times:': [datetime.datetime(2022, 7, 1, 16, 13, 15), datetime.datetime(2022, 7, 1, 19, 13, 15)], 'Title': 'Jerusalem Day Tour from Tel Aviv', 'Dest': '32.073954,34.765815'}\n",
      "Found Trip\n",
      "\n",
      "\n",
      "\n",
      "{'Duration': datetime.timedelta(seconds=1020), 'Cost': 0, 'Times:': [datetime.datetime(2022, 7, 1, 9, 36), datetime.datetime(2022, 7, 1, 9, 53)], 'Title': 'pedestrian', 'Dest': '32.228621,34.917733'}\n",
      "{'Duration': datetime.timedelta(seconds=360), 'Cost': None, 'Times:': [datetime.datetime(2022, 7, 1, 9, 53), datetime.datetime(2022, 7, 1, 9, 59)], 'Title': 'bus', 'Dest': '32.248448,34.915964'}\n",
      "{'Duration': datetime.timedelta(seconds=180), 'Cost': 0, 'Times:': [datetime.datetime(2022, 7, 1, 9, 59), datetime.datetime(2022, 7, 1, 10, 2)], 'Title': 'pedestrian', 'Dest': '32.248511,34.915812'}\n",
      "{'Duration': datetime.timedelta(seconds=240), 'Cost': None, 'Times:': [datetime.datetime(2022, 7, 1, 10, 30), datetime.datetime(2022, 7, 1, 10, 34)], 'Title': 'bus', 'Dest': '32.255041,34.88821'}\n",
      "{'Duration': datetime.timedelta(seconds=300), 'Cost': 0, 'Times:': [datetime.datetime(2022, 7, 1, 10, 34), datetime.datetime(2022, 7, 1, 10, 39)], 'Title': 'pedestrian', 'Dest': '32.254064,34.88915'}\n",
      "{'Duration': datetime.timedelta(seconds=2220), 'Cost': None, 'Times:': [datetime.datetime(2022, 7, 1, 10, 40), datetime.datetime(2022, 7, 1, 11, 17)], 'Title': 'bus', 'Dest': '32.091101,34.872488'}\n",
      "{'Duration': datetime.timedelta(seconds=2280), 'Cost': None, 'Times:': [datetime.datetime(2022, 7, 1, 11, 19), datetime.datetime(2022, 7, 1, 11, 57)], 'Title': 'bus', 'Dest': '32.075514,34.767296'}\n",
      "{'Duration': datetime.timedelta(seconds=60), 'Cost': 0, 'Times:': [datetime.datetime(2022, 7, 1, 11, 57), datetime.datetime(2022, 7, 1, 11, 58)], 'Title': 'pedestrian', 'Dest': '32.075565,34.767686'}\n",
      "{'Duration': datetime.timedelta(seconds=315), 'Cost': 0, 'Times:': [datetime.datetime(2022, 7, 1, 16, 3), datetime.datetime(2022, 7, 1, 16, 8, 15)], 'Title': 'pedestrian', 'Dest': '32.0742493,34.76592'}\n",
      "{'Duration': datetime.timedelta(seconds=180), 'Cost': 0, 'Times:': [datetime.datetime(2022, 7, 2, 20, 53), datetime.datetime(2022, 7, 2, 20, 56)], 'Title': 'pedestrian', 'Dest': '32.07536,34.766633'}\n",
      "{'Duration': datetime.timedelta(seconds=780), 'Cost': None, 'Times:': [datetime.datetime(2022, 7, 2, 20, 56), datetime.datetime(2022, 7, 2, 21, 9)], 'Title': 'bus', 'Dest': '32.07491,34.791286'}\n",
      "{'Duration': datetime.timedelta(seconds=300), 'Cost': 0, 'Times:': [datetime.datetime(2022, 7, 2, 21, 9), datetime.datetime(2022, 7, 2, 21, 14)], 'Title': 'pedestrian', 'Dest': '32.075758,34.791549'}\n",
      "{'Duration': datetime.timedelta(seconds=1860), 'Cost': None, 'Times:': [datetime.datetime(2022, 7, 2, 21, 15), datetime.datetime(2022, 7, 2, 21, 46)], 'Title': 'bus', 'Dest': '32.324197,34.867696'}\n",
      "{'Duration': datetime.timedelta(seconds=300), 'Cost': 0, 'Times:': [datetime.datetime(2022, 7, 2, 21, 46), datetime.datetime(2022, 7, 2, 21, 51)], 'Title': 'pedestrian', 'Dest': '32.323729,34.867107'}\n",
      "{'Duration': datetime.timedelta(seconds=2220), 'Cost': None, 'Times:': [datetime.datetime(2022, 7, 2, 22, 2), datetime.datetime(2022, 7, 2, 22, 39)], 'Title': 'bus', 'Dest': '32.228621,34.917733'}\n",
      "{'Duration': datetime.timedelta(seconds=1020), 'Cost': 0, 'Times:': [datetime.datetime(2022, 7, 2, 22, 39), datetime.datetime(2022, 7, 2, 22, 56)], 'Title': 'pedestrian', 'Dest': '32.223465,34.909965'}\n",
      "None\n"
     ]
    }
   ],
   "source": [
    "usedAttractions = []\n",
    "fastPaced = False\n",
    "print(planFullDay(tripPeople, luxury, lowCost,\n",
    "            museumOriented, fastPaced, priceCapLeft, hotel, transport, choosenHotel, usedAttractions, date))"
   ]
  },
  {
   "cell_type": "code",
   "execution_count": 40,
   "id": "ed2de536",
   "metadata": {
    "scrolled": true
   },
   "outputs": [
    {
     "name": "stdout",
     "output_type": "stream",
     "text": [
      "{'routes': [{'id': 'C0', 'sections': [{'id': 'C0-S0', 'type': 'pedestrian', 'departure': {'time': '2022-10-02T06:50:00+01:00', 'place': {'type': 'place', 'location': {'lat': 51.5061, 'lng': -0.10144}}}, 'arrival': {'time': '2022-10-02T07:08:00+01:00', 'place': {'name': 'London Bridge Rail Station', 'type': 'accessPoint', 'location': {'lat': 51.505327, 'lng': -0.086886}}}, 'transport': {'mode': 'pedestrian'}}, {'id': 'C0-S0-arr', 'type': 'pedestrian', 'departure': {'time': '2022-10-02T07:08:00+01:00', 'place': {'name': 'London Bridge Rail Station', 'type': 'accessPoint', 'location': {'lat': 51.505327, 'lng': -0.086886}}}, 'arrival': {'time': '2022-10-02T07:09:00+01:00', 'place': {'name': 'London Bridge', 'type': 'station', 'location': {'lat': 51.50511, 'lng': -0.08609}, 'wheelchairAccessible': 'yes', 'id': '120011305', 'code': 'LNDNBDC'}}, 'spans': [{'walkAttributes': ['indoor']}], 'transport': {'mode': 'pedestrian'}}, {'id': 'C0-S1', 'type': 'transit', 'departure': {'time': '2022-10-02T07:09:00+01:00', 'place': {'name': 'London Bridge', 'type': 'station', 'location': {'lat': 51.50511, 'lng': -0.08609}, 'wheelchairAccessible': 'yes', 'id': '120011305', 'code': 'LNDNBDC'}}, 'arrival': {'time': '2022-10-02T07:22:00+01:00', 'place': {'name': 'East Croydon', 'type': 'station', 'location': {'lat': 51.37545, 'lng': -0.09278}, 'wheelchairAccessible': 'yes', 'id': '120010724', 'code': 'ECROYDN'}}, 'transport': {'mode': 'regionalTrain', 'name': 'Thameslink', 'category': 'Rail', 'color': '#30104D', 'textColor': '#FFFFFF', 'headsign': '11', 'shortName': 'Thameslink', 'longName': 'London Bridge - Brighton'}, 'agency': {'id': '99939_31a923d', 'name': 'Thameslink', 'website': 'https://www.thameslinkrailway.com/'}}, {'id': 'C0-S2', 'type': 'transit', 'departure': {'time': '2022-10-02T07:27:00+01:00', 'place': {'name': 'East Croydon', 'type': 'station', 'location': {'lat': 51.37545, 'lng': -0.09278}, 'wheelchairAccessible': 'yes', 'id': '120010724', 'code': 'ECROYDN'}}, 'arrival': {'time': '2022-10-02T07:46:00+01:00', 'place': {'name': 'Redhill', 'type': 'station', 'location': {'lat': 51.2402, 'lng': -0.1659}, 'wheelchairAccessible': 'yes', 'id': '120011857', 'code': 'REDHILL'}}, 'transport': {'mode': 'regionalTrain', 'name': 'Southern', 'category': 'Rail', 'color': '#003F2E', 'textColor': '#FFE100', 'headsign': '6', 'shortName': 'Southern', 'longName': 'London Victoria - Brighton'}, 'agency': {'id': '99939_36602fa', 'name': 'Southern', 'website': 'https://www.southernrailway.com/'}}, {'id': 'C0-S3', 'type': 'transit', 'departure': {'time': '2022-10-02T07:51:00+01:00', 'place': {'name': 'Redhill', 'type': 'station', 'location': {'lat': 51.2402, 'lng': -0.1659}, 'wheelchairAccessible': 'yes', 'id': '120011857', 'code': 'REDHILL'}}, 'arrival': {'time': '2022-10-02T07:55:00+01:00', 'place': {'name': 'Nutfield', 'type': 'station', 'location': {'lat': 51.22681, 'lng': -0.13253}, 'wheelchairAccessible': 'yes', 'id': '120011654', 'code': 'NUTFILD'}}, 'transport': {'mode': 'regionalTrain', 'name': 'Southern', 'category': 'Rail', 'color': '#003F2E', 'textColor': '#FFE100', 'headsign': '1', 'shortName': 'Southern', 'longName': 'Redhill - Tonbridge'}, 'agency': {'id': '99939_36602fa', 'name': 'Southern', 'website': 'https://www.southernrailway.com/'}}, {'id': 'C0-S4-dep', 'type': 'pedestrian', 'departure': {'time': '2022-10-02T07:55:00+01:00', 'place': {'name': 'Nutfield', 'type': 'station', 'location': {'lat': 51.22681, 'lng': -0.13253}, 'wheelchairAccessible': 'yes', 'id': '120011654', 'code': 'NUTFILD'}}, 'arrival': {'time': '2022-10-02T07:56:00+01:00', 'place': {'name': 'Nutfield Rail Station', 'type': 'accessPoint', 'location': {'lat': 51.226568, 'lng': -0.132512}}}, 'spans': [{'walkAttributes': ['indoor']}], 'transport': {'mode': 'pedestrian'}}, {'id': 'C0-S4', 'type': 'pedestrian', 'departure': {'time': '2022-10-02T07:56:00+01:00', 'place': {'name': 'Nutfield Rail Station', 'type': 'accessPoint', 'location': {'lat': 51.226568, 'lng': -0.132512}}}, 'arrival': {'time': '2022-10-02T08:25:00+01:00', 'place': {'type': 'place', 'location': {'lat': 51.2191, 'lng': -0.1246}}}, 'transport': {'mode': 'pedestrian'}}]}]}\n",
      "{'Duration': datetime.timedelta(seconds=1080), 'Cost': 0, 'Times:': [datetime.datetime(2022, 10, 2, 6, 50), datetime.datetime(2022, 10, 2, 7, 8)], 'Title': 'pedestrian', 'Dest': '51.505327,-0.086886'}\n",
      "{'Duration': datetime.timedelta(seconds=60), 'Cost': 0, 'Times:': [datetime.datetime(2022, 10, 2, 7, 8), datetime.datetime(2022, 10, 2, 7, 9)], 'Title': 'pedestrian', 'Dest': '51.50511,-0.08609'}\n",
      "{'Duration': datetime.timedelta(seconds=780), 'Cost': None, 'Times:': [datetime.datetime(2022, 10, 2, 7, 9), datetime.datetime(2022, 10, 2, 7, 22)], 'Title': 'regionalTrain', 'Dest': '51.37545,-0.09278'}\n",
      "{'Duration': datetime.timedelta(seconds=1140), 'Cost': None, 'Times:': [datetime.datetime(2022, 10, 2, 7, 27), datetime.datetime(2022, 10, 2, 7, 46)], 'Title': 'regionalTrain', 'Dest': '51.2402,-0.1659'}\n",
      "{'Duration': datetime.timedelta(seconds=240), 'Cost': None, 'Times:': [datetime.datetime(2022, 10, 2, 7, 51), datetime.datetime(2022, 10, 2, 7, 55)], 'Title': 'regionalTrain', 'Dest': '51.22681,-0.13253'}\n",
      "{'Duration': datetime.timedelta(seconds=60), 'Cost': 0, 'Times:': [datetime.datetime(2022, 10, 2, 7, 55), datetime.datetime(2022, 10, 2, 7, 56)], 'Title': 'pedestrian', 'Dest': '51.226568,-0.132512'}\n",
      "{'Duration': datetime.timedelta(seconds=1740), 'Cost': 0, 'Times:': [datetime.datetime(2022, 10, 2, 7, 56), datetime.datetime(2022, 10, 2, 8, 25)], 'Title': 'pedestrian', 'Dest': '51.2191,-0.1246'}\n"
     ]
    }
   ],
   "source": [
    "transport = transportFunctions()\n",
    "#print(datetime.datetime.now())\n",
    "date = datetime.datetime.now()\n",
    "date = date.replace(minute=59, hour=23, second=59, year=2022, month=10, day=1)\n",
    "a = transport.getTransportByTime(51.5061,-0.10144,51.2191,-0.1246, str(date.isoformat()))\n",
    "for i in a:\n",
    "    print(i)\n",
    "    pass"
   ]
  },
  {
   "cell_type": "code",
   "execution_count": 44,
   "id": "18ec990b",
   "metadata": {},
   "outputs": [],
   "source": [
    "def planDay(fastPaced, attractionOptions, transportObject, xCoord, yCoord, date, usedAttractions):\n",
    "    currDate = date.replace(minute = 0, hour = 9, second=0)\n",
    "    print(\"THE DATE IS:\", currDate)\n",
    "    attractionArr = []\n",
    "    transportArr = []\n",
    "    currX = xCoord\n",
    "    currY = yCoord\n",
    "    attractionCount = 2\n",
    "    if (fastPaced):\n",
    "        attractionCount = 3\n",
    "    for i in range(0, min((attractionCount), len(attractionOptions))):\n",
    "        attractionLocation = attractionOptions[i].destination.split(',')\n",
    "        destX = float(attractionLocation[0])\n",
    "        destY = float(attractionLocation[1])\n",
    "        print(currX, currY, destX, destY, str(currDate.isoformat()))\n",
    "        currTransport = transport.getTransportByTime(currX, currY, destX, destY, str(currDate.isoformat()))\n",
    "        currX = destX\n",
    "        currY = destY\n",
    "        print(currTransport)\n",
    "        currDate = currTransport[-1].timeEnd\n",
    "        currDate = currDate + datetime.timedelta(minutes=5)\n",
    "        transportArr.append(currTransport)\n",
    "        attractionOptions[i].timeStart = currDate\n",
    "        currDate = currDate + datetime.timedelta(hours=3)\n",
    "        attractionOptions[i].timeEnd = currDate\n",
    "        currDate = currDate + datetime.timedelta(minutes=60)\n",
    "        attractionArr.append(attractionOptions[i])\n",
    "        usedAttractions.append(attractionOptions[i].title.lower())\n",
    "    print(\"The date at the end is\", currDate)\n",
    "    currTransport = transport.getTransportByTime(currX, currY, xCoord, yCoord, str(currDate.isoformat()))\n",
    "    transportArr.append(currTransport)\n",
    "    print(\"Found Attractions:\\n\\n\\n\")\n",
    "    for i in attractionArr:\n",
    "        print(i)\n",
    "    print(\"Found Trip\\n\\n\\n\")\n",
    "    for i in transportArr:\n",
    "        for j in i:\n",
    "            print(j)\n",
    "    return [], []"
   ]
  },
  {
   "cell_type": "code",
   "execution_count": null,
   "id": "e42871f6",
   "metadata": {},
   "outputs": [],
   "source": []
  }
 ],
 "metadata": {
  "kernelspec": {
   "display_name": "Python 3",
   "language": "python",
   "name": "python3"
  },
  "language_info": {
   "codemirror_mode": {
    "name": "ipython",
    "version": 3
   },
   "file_extension": ".py",
   "mimetype": "text/x-python",
   "name": "python",
   "nbconvert_exporter": "python",
   "pygments_lexer": "ipython3",
   "version": "3.9.1"
  }
 },
 "nbformat": 4,
 "nbformat_minor": 5
}
