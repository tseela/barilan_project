{
 "cells": [
  {
   "cell_type": "code",
   "execution_count": 34,
   "id": "64e8d02e",
   "metadata": {},
   "outputs": [],
   "source": [
    "import classes\n",
    "import random\n",
    "from amadeus import Client, ResponseError\n",
    "from hotels1 import hotelFunctions\n",
    "import amadeus\n",
    "#import api\n",
    "import hotels1\n",
    "import hotelTests\n",
    "import transport\n",
    "from transport import transportFunctions\n",
    "from transport import getNZfromCity"
   ]
  },
  {
   "cell_type": "code",
   "execution_count": 2,
   "id": "e2d54eb0",
   "metadata": {},
   "outputs": [],
   "source": [
    "amadeus = Client(\n",
    "        client_id='CGwOmHn7cmfAIuUcbqUiaPC5LAyAvwAG',\n",
    "        client_secret='rKvILHDsjxcCh6yq'\n",
    "    )\n",
    "hotel = hotelFunctions(amadeus)"
   ]
  },
  {
   "cell_type": "code",
   "execution_count": 16,
   "id": "4ebe0ad1",
   "metadata": {},
   "outputs": [
    {
     "name": "stdout",
     "output_type": "stream",
     "text": [
      "Those are it: 'media'\n"
     ]
    }
   ],
   "source": [
    "hotels = hotel.getHotelsByGeocode(getNZfromCity('London')[0], getNZfromCity('London')[1])"
   ]
  },
  {
   "cell_type": "code",
   "execution_count": 17,
   "id": "3ae42683",
   "metadata": {},
   "outputs": [
    {
     "name": "stdout",
     "output_type": "stream",
     "text": [
      "{'Duration': None, 'Cost': 199.0, 'Times:': ['2022-06-16', '2022-06-17'], 'Title': 'HOLIDAY INN EXP SOUTHWARK ST', 'Dest': '51.5061,-0.10144'}\n",
      "{'Duration': None, 'Cost': 171.63, 'Times:': ['2022-06-16', '2022-06-17'], 'Title': 'London Blackfriars', 'Dest': '51.5131,-0.10561'}\n",
      "{'Duration': None, 'Cost': 166.63, 'Times:': ['2022-06-16', '2022-06-17'], 'Title': 'London Waterloo', 'Dest': '51.50329,-0.11521'}\n",
      "{'Duration': None, 'Cost': 407.0, 'Times:': ['2022-06-16', '2022-06-17'], 'Title': 'Andaz Liverpool Street London', 'Dest': '51.51651,-0.08191'}\n",
      "{'Duration': None, 'Cost': 429.0, 'Times:': ['2022-06-16', '2022-06-17'], 'Title': 'THE WALDORF HILTON', 'Dest': '51.51264,-0.11937'}\n",
      "{'Duration': None, 'Cost': 417.0, 'Times:': ['2022-06-16', '2022-06-17'], 'Title': 'DOUBLETREE TOWER OF LONDON', 'Dest': '51.51091,-0.07849'}\n",
      "{'Duration': None, 'Cost': 153.63, 'Times:': ['2022-06-16', '2022-06-17'], 'Title': 'London Tower Bridge', 'Dest': '51.50003,-0.0815'}\n",
      "{'Duration': None, 'Cost': 212.63, 'Times:': ['2022-06-16', '2022-06-17'], 'Title': 'London County Hall', 'Dest': '51.50147,-0.11876'}\n",
      "{'Duration': None, 'Cost': 259.0, 'Times:': ['2022-06-16', '2022-06-17'], 'Title': 'DOUBLETREE LONDON WEST END', 'Dest': '51.51985,-0.12213'}\n",
      "{'Duration': None, 'Cost': 82.86, 'Times:': ['2022-06-16', '2022-06-17'], 'Title': 'ibis London City - Shoreditch', 'Dest': '51.51534,-0.07197'}\n",
      "{'Duration': None, 'Cost': 262.8, 'Times:': ['2022-06-16', '2022-06-17'], 'Title': 'GRANGE CLARENDON', 'Dest': '51.51967,-0.12371'}\n",
      "{'Duration': None, 'Cost': 204.98, 'Times:': ['2022-06-16', '2022-06-17'], 'Title': 'GRANGE WHITE HALL', 'Dest': '51.5191,-0.1246'}\n"
     ]
    }
   ],
   "source": [
    "for i in hotels:\n",
    "    print(i)"
   ]
  },
  {
   "cell_type": "code",
   "execution_count": 22,
   "id": "2dcbd141",
   "metadata": {},
   "outputs": [],
   "source": [
    "transport = transportFunctions()\n",
    "transports = transport.getTransport(51.5061,-0.10144,51.2191,-0.1246)\n"
   ]
  },
  {
   "cell_type": "code",
   "execution_count": 23,
   "id": "d221adb2",
   "metadata": {},
   "outputs": [
    {
     "name": "stdout",
     "output_type": "stream",
     "text": [
      "{'Duration': datetime.timedelta(seconds=360), 'Cost': 0, 'Times:': [datetime.datetime(2022, 6, 16, 16, 32), datetime.datetime(2022, 6, 16, 16, 38)], 'Title': 'pedestrian', 'Dest': '51.508517,-0.103367'}\n",
      "{'Duration': datetime.timedelta(seconds=360), 'Cost': 0, 'Times:': [datetime.datetime(2022, 6, 16, 16, 38), datetime.datetime(2022, 6, 16, 16, 44)], 'Title': 'pedestrian', 'Dest': '51.51181,-0.10333'}\n",
      "{'Duration': datetime.timedelta(seconds=2580), 'Cost': None, 'Times:': [datetime.datetime(2022, 6, 16, 16, 44), datetime.datetime(2022, 6, 16, 17, 27)], 'Title': 'regionalTrain', 'Dest': '51.2402,-0.1659'}\n",
      "{'Duration': datetime.timedelta(seconds=240), 'Cost': None, 'Times:': [datetime.datetime(2022, 6, 16, 17, 30), datetime.datetime(2022, 6, 16, 17, 34)], 'Title': 'regionalTrain', 'Dest': '51.22681,-0.13253'}\n",
      "{'Duration': datetime.timedelta(seconds=60), 'Cost': 0, 'Times:': [datetime.datetime(2022, 6, 16, 17, 34), datetime.datetime(2022, 6, 16, 17, 35)], 'Title': 'pedestrian', 'Dest': '51.226568,-0.132512'}\n",
      "{'Duration': datetime.timedelta(seconds=1740), 'Cost': 0, 'Times:': [datetime.datetime(2022, 6, 16, 17, 35), datetime.datetime(2022, 6, 16, 18, 4)], 'Title': 'pedestrian', 'Dest': '51.2191,-0.1246'}\n"
     ]
    }
   ],
   "source": [
    "for i in transports:\n",
    "    print(i)"
   ]
  },
  {
   "cell_type": "code",
   "execution_count": 7,
   "id": "637dd6ab",
   "metadata": {},
   "outputs": [],
   "source": [
    "attractions = hotel.getActivities(32.079664, 34.767410, 2)"
   ]
  },
  {
   "cell_type": "code",
   "execution_count": 8,
   "id": "c14e5015",
   "metadata": {},
   "outputs": [
    {
     "name": "stdout",
     "output_type": "stream",
     "text": [
      "{'Duration': None, 'Cost': 25.0, 'Times:': [None, None], 'Title': 'Tel Aviv Pub Crawl', 'Dest': '32.075996,34.766022'}\n",
      "{'Duration': None, 'Cost': 96.0, 'Times:': [None, None], 'Title': 'From Jerusalem: Masada and Dead Sea Tour', 'Dest': '32.075565,34.767686'}\n",
      "{'Duration': None, 'Cost': 34.0, 'Times:': [None, None], 'Title': 'Tel Aviv: Street Food Tour', 'Dest': '32.077840,34.777979'}\n",
      "{'Duration': None, 'Cost': 80.0, 'Times:': [None, None], 'Title': 'Jerusalem Day Tour from Tel Aviv', 'Dest': '32.073954,34.765815'}\n",
      "{'Duration': None, 'Cost': 65.0, 'Times:': [None, None], 'Title': 'Tel Aviv: Jerusalem Old City Late Morning Tour', 'Dest': '32.074602,34.768443'}\n",
      "{'Duration': None, 'Cost': 53.0, 'Times:': [None, None], 'Title': 'Tel Aviv: Private Group Guided Bike Tour', 'Dest': '32.074815,34.767932'}\n"
     ]
    }
   ],
   "source": [
    "for i in attractions:\n",
    "    print(i)"
   ]
  },
  {
   "cell_type": "code",
   "execution_count": 35,
   "id": "889828af",
   "metadata": {},
   "outputs": [],
   "source": [
    "def chooseCheapestHotel(hotels):\n",
    "    lowest = 1000000\n",
    "    index = 0\n",
    "    for i in range(0, len(hotels)):\n",
    "        if (hotels[i]['Cost'] < lowest):\n",
    "            index = i\n",
    "            lowest = hotels[i]['Cost']\n",
    "    return hotels[index]\n",
    "def chooseMostLuxuriousHotel(hotels):\n",
    "    highest = 0\n",
    "    index = 0\n",
    "    for i in range(0, len(hotels)):\n",
    "        if (hotels[i]['Cost'] > highest):\n",
    "            index = i\n",
    "            highest = hotels[i]['Cost']\n",
    "    return hotels[index]"
   ]
  },
  {
   "cell_type": "code",
   "execution_count": 36,
   "id": "3365c44e",
   "metadata": {},
   "outputs": [
    {
     "name": "stdout",
     "output_type": "stream",
     "text": [
      "{'Duration': None, 'Cost': 300.7, 'Times:': ['2022-06-16', '2022-06-17'], 'Title': 'Holiday Inn Brooklyn Downtown', 'Dest': '40.68739,-73.98265'}\n",
      "{'Duration': None, 'Cost': 246.36, 'Times:': ['2022-06-16', '2022-06-17'], 'Title': 'Sheraton Brooklyn New York Hotel', 'Dest': '40.6916,-73.98438'}\n",
      "{'Duration': None, 'Cost': 421.2, 'Times:': ['2022-06-16', '2022-06-17'], 'Title': 'New York Marriott at the Brooklyn Bridge', 'Dest': '40.69384,-73.98916'}\n",
      "{'Duration': None, 'Cost': 313.33, 'Times:': ['2022-06-16', '2022-06-17'], 'Title': 'Best Western Plus Arena Hotel', 'Dest': '40.67837,-73.94654'}\n",
      "{'Duration': None, 'Cost': 227.27, 'Times:': ['2022-06-16', '2022-06-17'], 'Title': 'Fairfield Inn by Marriott New York Manhattan Financial District', 'Dest': '40.70604,-74.00502'}\n",
      "{'Duration': None, 'Cost': 266.28, 'Times:': ['2022-06-16', '2022-06-17'], 'Title': 'HAMPTON INN MANHATTAN SEAPORT', 'Dest': '40.70906,-74.00199'}\n",
      "{'Duration': None, 'Cost': 526.76, 'Times:': ['2022-06-16', '2022-06-17'], 'Title': 'New York Marriott Downtown', 'Dest': '40.70975,-74.01468'}\n",
      "{'Duration': None, 'Cost': 381.06, 'Times:': ['2022-06-16', '2022-06-17'], 'Title': 'HILTON GI NEW YORK -TRIBECA', 'Dest': '40.72101,-74.00523'}\n",
      "{'Duration': None, 'Cost': 266.28, 'Times:': ['2022-06-16', '2022-06-17'], 'Title': 'HAMPTON INN MANHATTAN SEAPORT', 'Dest': '40.70906,-74.00199'}\n"
     ]
    }
   ],
   "source": [
    "lowCost = False\n",
    "luxury = False\n",
    "shoomerShabat = False\n",
    "tripPeople = 4\n",
    "amadeus = Client(\n",
    "    client_id='CGwOmHn7cmfAIuUcbqUiaPC5LAyAvwAG',\n",
    "    client_secret='rKvILHDsjxcCh6yq'\n",
    ")\n",
    "city = \"New York\"\n",
    "hotel = hotelFunctions(amadeus)\n",
    "transport = transportFunctions()\n",
    "#print(city)\n",
    "#print(getNZfromCity(city))\n",
    "hotels = hotel.getHotelsByGeocode(getNZfromCity(city)[0], getNZfromCity(city)[1])\n",
    "for i in hotels:\n",
    "    print(i)\n",
    "choosenHotel = None\n",
    "if (lowCost):\n",
    "    choosenHotel = chooseCheapestHotel(hotels)\n",
    "elif (luxury):\n",
    "    choosenHotel = chooseMostLuxuriousHotel(hotels)\n",
    "else:\n",
    "    choosenHotel = random.choice(hotels)\n",
    "print(choosenHotel)"
   ]
  },
  {
   "cell_type": "code",
   "execution_count": null,
   "id": "d191f107",
   "metadata": {},
   "outputs": [],
   "source": [
    "if (lowCost):\n",
    "    "
   ]
  }
 ],
 "metadata": {
  "kernelspec": {
   "display_name": "Python 3",
   "language": "python",
   "name": "python3"
  },
  "language_info": {
   "codemirror_mode": {
    "name": "ipython",
    "version": 3
   },
   "file_extension": ".py",
   "mimetype": "text/x-python",
   "name": "python",
   "nbconvert_exporter": "python",
   "pygments_lexer": "ipython3",
   "version": "3.9.1"
  }
 },
 "nbformat": 4,
 "nbformat_minor": 5
}
