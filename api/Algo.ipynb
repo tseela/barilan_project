{
 "cells": [
  {
   "cell_type": "code",
   "execution_count": 1,
   "id": "15f872fc",
   "metadata": {},
   "outputs": [],
   "source": [
    "import classes\n",
    "from amadeus import Client, ResponseError\n",
    "from hotels1 import hotelFunctions\n",
    "import amadeus\n",
    "#import api\n",
    "import hotels1\n",
    "import hotelTests\n",
    "import transport\n",
    "from transport import transportFunctions"
   ]
  },
  {
   "cell_type": "code",
   "execution_count": 2,
   "id": "e057da84",
   "metadata": {},
   "outputs": [],
   "source": [
    "amadeus = Client(\n",
    "        client_id='CGwOmHn7cmfAIuUcbqUiaPC5LAyAvwAG',\n",
    "        client_secret='rKvILHDsjxcCh6yq'\n",
    "    )\n",
    "hotel = hotelFunctions(amadeus)"
   ]
  },
  {
   "cell_type": "code",
   "execution_count": 6,
   "id": "cffa5de3",
   "metadata": {},
   "outputs": [],
   "source": [
    "hotels = hotel.getHotelsByGeocode(32.079664, 34.767410)"
   ]
  },
  {
   "cell_type": "code",
   "execution_count": 7,
   "id": "9ad39b40",
   "metadata": {},
   "outputs": [
    {
     "name": "stdout",
     "output_type": "stream",
     "text": [
      "{'Duration': None, 'Cost': 153.0, 'Times:': ['2022-06-16', '2022-06-17'], 'Title': 'Best Western Regency Suites', 'Dest': '32.079664,34.76741'}\n",
      "{'Duration': None, 'Cost': 413.1, 'Times:': ['2022-06-16', '2022-06-17'], 'Title': 'Sheraton Tel Aviv', 'Dest': '32.079664,34.76741'}\n"
     ]
    }
   ],
   "source": [
    "for i in hotels:\n",
    "    print(i)"
   ]
  },
  {
   "cell_type": "code",
   "execution_count": 15,
   "id": "e26ef153",
   "metadata": {},
   "outputs": [],
   "source": [
    "transport = transportFunctions()\n",
    "transports = transport.getTransport(32.0845191,34.8037962,32.0791345,34.7924341)\n"
   ]
  },
  {
   "cell_type": "code",
   "execution_count": 16,
   "id": "2dab0522",
   "metadata": {},
   "outputs": [
    {
     "name": "stdout",
     "output_type": "stream",
     "text": [
      "{'Duration': datetime.timedelta(seconds=480), 'Cost': 0, 'Times:': [datetime.datetime(2022, 6, 16, 17, 28), datetime.datetime(2022, 6, 16, 17, 36)], 'Title': 'pedestrian', 'Dest': '32.082614,34.800225'}\n",
      "{'Duration': datetime.timedelta(seconds=180), 'Cost': None, 'Times:': [datetime.datetime(2022, 6, 16, 17, 36), datetime.datetime(2022, 6, 16, 17, 39)], 'Title': 'bus', 'Dest': '32.077723,34.790819'}\n",
      "{'Duration': datetime.timedelta(seconds=300), 'Cost': 0, 'Times:': [datetime.datetime(2022, 6, 16, 17, 39), datetime.datetime(2022, 6, 16, 17, 44)], 'Title': 'pedestrian', 'Dest': '32.079135,34.792434'}\n"
     ]
    }
   ],
   "source": [
    "for i in transports:\n",
    "    print(i)"
   ]
  },
  {
   "cell_type": "code",
   "execution_count": 3,
   "id": "0b7b07a2",
   "metadata": {},
   "outputs": [],
   "source": [
    "attractions = hotel.getActivities(32.079664, 34.767410, 2)"
   ]
  },
  {
   "cell_type": "code",
   "execution_count": 4,
   "id": "58f1dc84",
   "metadata": {},
   "outputs": [
    {
     "name": "stdout",
     "output_type": "stream",
     "text": [
      "{'Duration': None, 'Cost': 25.0, 'Times:': [None, None], 'Title': 'Tel Aviv Pub Crawl'}\n",
      "{'Duration': None, 'Cost': 96.0, 'Times:': [None, None], 'Title': 'From Jerusalem: Masada and Dead Sea Tour'}\n",
      "{'Duration': None, 'Cost': 34.0, 'Times:': [None, None], 'Title': 'Tel Aviv: Street Food Tour'}\n",
      "{'Duration': None, 'Cost': 80.0, 'Times:': [None, None], 'Title': 'Jerusalem Day Tour from Tel Aviv'}\n",
      "{'Duration': None, 'Cost': 65.0, 'Times:': [None, None], 'Title': 'Tel Aviv: Jerusalem Old City Late Morning Tour'}\n",
      "{'Duration': None, 'Cost': 53.0, 'Times:': [None, None], 'Title': 'Tel Aviv: Private Group Guided Bike Tour'}\n"
     ]
    }
   ],
   "source": [
    "for i in attractions:\n",
    "    print(i)"
   ]
  },
  {
   "cell_type": "code",
   "execution_count": null,
   "id": "7b6dda5c",
   "metadata": {},
   "outputs": [],
   "source": []
  }
 ],
 "metadata": {
  "kernelspec": {
   "display_name": "Python 3",
   "language": "python",
   "name": "python3"
  },
  "language_info": {
   "codemirror_mode": {
    "name": "ipython",
    "version": 3
   },
   "file_extension": ".py",
   "mimetype": "text/x-python",
   "name": "python",
   "nbconvert_exporter": "python",
   "pygments_lexer": "ipython3",
   "version": "3.9.1"
  }
 },
 "nbformat": 4,
 "nbformat_minor": 5
}
