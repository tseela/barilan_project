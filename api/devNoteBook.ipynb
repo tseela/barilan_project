{
 "cells": [
  {
   "cell_type": "code",
   "execution_count": 1,
   "id": "d9244082",
   "metadata": {},
   "outputs": [],
   "source": [
    "from amadeus import Client, ResponseError\n",
    "amadeus = Client(\n",
    "        client_id='CGwOmHn7cmfAIuUcbqUiaPC5LAyAvwAG',\n",
    "        client_secret='rKvILHDsjxcCh6yq'\n",
    "    )"
   ]
  },
  {
   "cell_type": "code",
   "execution_count": 2,
   "id": "23944dc0",
   "metadata": {},
   "outputs": [],
   "source": [
    "try:\n",
    "    firstResponse = amadeus.shopping.flight_offers.prediction.post(\n",
    "        amadeus.shopping.flight_offers_search.get(\n",
    "        originLocationCode='SYD',\n",
    "        destinationLocationCode='BKK',\n",
    "        departureDate='2022-11-01',\n",
    "        adults=1).result)\n",
    "except ResponseError as error:\n",
    "    print(error)"
   ]
  },
  {
   "cell_type": "code",
   "execution_count": 3,
   "id": "b42e9e5a",
   "metadata": {},
   "outputs": [],
   "source": [
    "try:\n",
    "    secondResponse = amadeus.shopping.flight_offers_search.get(\n",
    "    originLocationCode='MAD',\n",
    "    destinationLocationCode='BOS',\n",
    "    departureDate='2022-07-07',\n",
    "    adults='4'\n",
    "    )\n",
    "except ResponseError as error:\n",
    "    print(error)"
   ]
  },
  {
   "cell_type": "code",
   "execution_count": 20,
   "id": "3a1b7fbd",
   "metadata": {},
   "outputs": [
    {
     "name": "stdout",
     "output_type": "stream",
     "text": [
      "{'departure': {'iataCode': 'JFK', 'terminal': '5', 'at': '2022-07-08T11:12:00'}, 'arrival': {'iataCode': 'BOS', 'terminal': 'C', 'at': '2022-07-08T12:28:00'}, 'carrierCode': 'TP', 'number': '4468', 'aircraft': {'code': 'E90'}, 'operating': {'carrierCode': 'B6'}, 'duration': 'PT1H16M', 'id': '210', 'numberOfStops': 0, 'blacklistedInEU': False}\n"
     ]
    }
   ],
   "source": [
    "print(secondResponse.data[3]['itineraries'][0]['segments'][2])"
   ]
  },
  {
   "cell_type": "code",
   "execution_count": 30,
   "id": "13e40255",
   "metadata": {},
   "outputs": [],
   "source": [
    "import classes\n",
    "class Flights:\n",
    "    def __init__(self, amadeus_client):\n",
    "        self.amadeus = amadeus_client\n",
    "    \n",
    "    def getFlightObjects(self, srcAirportCode, dstAirportCode, date, passengersCount):\n",
    "        response = self.amadeus.shopping.flight_offers_search.get(\n",
    "        originLocationCode='SYD',\n",
    "        destinationLocationCode='BKK',\n",
    "        departureDate='2022-11-01',\n",
    "        adults=1).data\n",
    "        parsedData = self.parseFlightResponse(response)\n",
    "        return parsedData\n",
    "    \n",
    "    def extractDuration(self, itineraries):\n",
    "        hour = 0\n",
    "        minute = 0\n",
    "        for i in itineraries:\n",
    "            i = {x.replace(' ', ''): v\n",
    "    for x, v in i.items()}\n",
    "            currDur = i['duration'].split('M')\n",
    "            if (len(currDur) == 1):\n",
    "                hour += int(currDur[-1].split('PT')[-1].split('H')[0])\n",
    "            if (len(currDur) == 2):\n",
    "                minute += int(currDur[0].split('H')[-1])\n",
    "                hour += int(currDur[0].split('H')[0].split('PT')[-1])\n",
    "        return hour + minute / 60\n",
    "    \n",
    "    def extractPrice(self, price):\n",
    "        price = {x.replace(' ', ''): v\n",
    "             for x, v in price.items()}\n",
    "        return price['total']\n",
    "    \n",
    "    def extractItinerary(self, itineraries):\n",
    "        resultArr = []\n",
    "        for i in itineraries:\n",
    "            \n",
    "        return \n",
    "    \n",
    "    def flightEndingTimeArray(self, response):\n",
    "        resArr = []\n",
    "        for i in response['itineraries'][0]['segments']:\n",
    "            resArr.append(i['arrival']['at'])\n",
    "        return resArr\n",
    "    \n",
    "    def flightDestinationLocationArray(self, response):\n",
    "        resArr = []\n",
    "        for i in response['itineraries'][0]['segments']:\n",
    "            resArr.append({'airport' : i['arrival']['iataCode'],  'terminal' : i['arrival']['terminal']})\n",
    "        return resArr\n",
    "    \n",
    "    def flightStartingTimeArray(self, response):\n",
    "        resArr = []\n",
    "        for i in response['itineraries'][0]['segments']:\n",
    "            resArr.append(i['departure']['at'])\n",
    "        return resArr\n",
    "    \n",
    "    def flightSourceLocationArray(self, response):\n",
    "        resArr = []\n",
    "        for i in response['itineraries'][0]['segments']:\n",
    "            resArr.append({'airport' : i['departure']['iataCode'], 'tיerminal' : i['departure']['terminal']})\n",
    "        return resArr\n",
    "    \n",
    "    def parseFlightResponse(self, response):\n",
    "        resultArr = []\n",
    "        for option in response:\n",
    "            currResultDict = {}\n",
    "            option = {x.replace(' ', ''): v\n",
    "     for x, v in option.items()}\n",
    "            currResultDict['duration'] = self.extractDuration(option['itineraries'])\n",
    "            currResultDict['price'] = self.extractPrice(option['price'])\n",
    "            currResultDict['itinerary'] = self.extractItinerary(option['itineraries'])\n",
    "            currResultDict['timeStart'] = self.flightStartingTimeArray(option)\n",
    "            currResultDict['timeEnd'] = self.flightEndingTimeArray(option)\n",
    "            resultArr.append(currResultDict)\n",
    "        return resultArr\n"
   ]
  },
  {
   "cell_type": "code",
   "execution_count": 31,
   "id": "3d1a9f34",
   "metadata": {},
   "outputs": [
    {
     "data": {
      "text/plain": [
       "[{'duration': 14.25,\n",
       "  'price': '380.01',\n",
       "  'timeStart': ['2022-11-01T11:35:00', '2022-11-01T19:20:00'],\n",
       "  'timeEnd': ['2022-11-01T16:50:00', '2022-11-01T21:50:00']},\n",
       " {'duration': 28.5,\n",
       "  'price': '380.01',\n",
       "  'timeStart': ['2022-11-01T11:35:00', '2022-11-02T09:45:00'],\n",
       "  'timeEnd': ['2022-11-01T16:50:00', '2022-11-02T12:05:00']},\n",
       " {'duration': 33.166666666666664,\n",
       "  'price': '380.01',\n",
       "  'timeStart': ['2022-11-01T11:35:00', '2022-11-02T14:25:00'],\n",
       "  'timeEnd': ['2022-11-01T16:50:00', '2022-11-02T16:45:00']},\n",
       " {'duration': 9.416666666666666,\n",
       "  'price': '467.44',\n",
       "  'timeStart': ['2022-11-01T10:00:00'],\n",
       "  'timeEnd': ['2022-11-01T15:25:00']},\n",
       " {'duration': 9.666666666666666,\n",
       "  'price': '604.40',\n",
       "  'timeStart': ['2022-11-01T10:30:00'],\n",
       "  'timeEnd': ['2022-11-01T16:10:00']},\n",
       " {'duration': 39.75,\n",
       "  'price': '758.61',\n",
       "  'timeStart': ['2022-11-01T10:20:00', '2022-11-02T18:30:00'],\n",
       "  'timeEnd': ['2022-11-01T19:00:00', '2022-11-02T22:05:00']},\n",
       " {'duration': 15.666666666666666,\n",
       "  'price': '1467.01',\n",
       "  'timeStart': ['2022-11-01T22:10:00', '2022-11-02T07:00:00'],\n",
       "  'timeEnd': ['2022-11-02T04:30:00', '2022-11-02T09:50:00']},\n",
       " {'duration': 18.916666666666668,\n",
       "  'price': '1467.01',\n",
       "  'timeStart': ['2022-11-01T22:10:00', '2022-11-02T10:05:00'],\n",
       "  'timeEnd': ['2022-11-02T04:30:00', '2022-11-02T13:05:00']},\n",
       " {'duration': 22.583333333333332,\n",
       "  'price': '1467.01',\n",
       "  'timeStart': ['2022-11-01T22:10:00', '2022-11-02T13:50:00'],\n",
       "  'timeEnd': ['2022-11-02T04:30:00', '2022-11-02T16:45:00']},\n",
       " {'duration': 9.666666666666666,\n",
       "  'price': '2072.40',\n",
       "  'timeStart': ['2022-11-01T10:30:00'],\n",
       "  'timeEnd': ['2022-11-01T16:10:00']},\n",
       " {'duration': 24.5,\n",
       "  'price': '2318.26',\n",
       "  'timeStart': ['2022-11-01T22:00:00', '2022-11-02T08:10:00'],\n",
       "  'timeEnd': ['2022-11-02T04:50:00', '2022-11-02T18:30:00']},\n",
       " {'duration': 36.5,\n",
       "  'price': '2321.63',\n",
       "  'timeStart': ['2022-11-01T22:00:00', '2022-11-02T20:10:00'],\n",
       "  'timeEnd': ['2022-11-02T04:50:00', '2022-11-03T06:30:00']},\n",
       " {'duration': 11.75,\n",
       "  'price': '2414.16',\n",
       "  'timeStart': ['2022-11-01T12:15:00', '2022-11-01T18:35:00'],\n",
       "  'timeEnd': ['2022-11-01T17:35:00', '2022-11-01T20:00:00']},\n",
       " {'duration': 11.916666666666666,\n",
       "  'price': '2414.16',\n",
       "  'timeStart': ['2022-11-01T09:05:00', '2022-11-01T15:25:00'],\n",
       "  'timeEnd': ['2022-11-01T14:15:00', '2022-11-01T17:00:00']},\n",
       " {'duration': 13.666666666666666,\n",
       "  'price': '2414.16',\n",
       "  'timeStart': ['2022-11-01T09:05:00', '2022-11-01T17:10:00'],\n",
       "  'timeEnd': ['2022-11-01T14:15:00', '2022-11-01T18:45:00']},\n",
       " {'duration': 14.916666666666666,\n",
       "  'price': '2414.16',\n",
       "  'timeStart': ['2022-11-01T09:05:00', '2022-11-01T18:35:00'],\n",
       "  'timeEnd': ['2022-11-01T14:15:00', '2022-11-01T20:00:00']},\n",
       " {'duration': 17.5,\n",
       "  'price': '2414.16',\n",
       "  'timeStart': ['2022-11-01T19:10:00', '2022-11-02T07:15:00'],\n",
       "  'timeEnd': ['2022-11-02T00:20:00', '2022-11-02T08:40:00']},\n",
       " {'duration': 20.0,\n",
       "  'price': '2414.16',\n",
       "  'timeStart': ['2022-11-01T19:10:00', '2022-11-02T09:45:00'],\n",
       "  'timeEnd': ['2022-11-02T00:20:00', '2022-11-02T11:10:00']},\n",
       " {'duration': 23.416666666666668,\n",
       "  'price': '2414.16',\n",
       "  'timeStart': ['2022-11-01T19:10:00', '2022-11-02T13:05:00'],\n",
       "  'timeEnd': ['2022-11-02T00:20:00', '2022-11-02T14:35:00']},\n",
       " {'duration': 25.833333333333332,\n",
       "  'price': '2414.16',\n",
       "  'timeStart': ['2022-11-01T19:10:00', '2022-11-02T15:25:00'],\n",
       "  'timeEnd': ['2022-11-02T00:20:00', '2022-11-02T17:00:00']},\n",
       " {'duration': 27.583333333333332,\n",
       "  'price': '2414.16',\n",
       "  'timeStart': ['2022-11-01T19:10:00', '2022-11-02T17:10:00'],\n",
       "  'timeEnd': ['2022-11-02T00:20:00', '2022-11-02T18:45:00']},\n",
       " {'duration': 28.833333333333332,\n",
       "  'price': '2414.16',\n",
       "  'timeStart': ['2022-11-01T19:10:00', '2022-11-02T18:35:00'],\n",
       "  'timeEnd': ['2022-11-02T00:20:00', '2022-11-02T20:00:00']},\n",
       " {'duration': 28.333333333333332,\n",
       "  'price': '4046.70',\n",
       "  'timeStart': ['2022-11-01T12:00:00', '2022-11-02T08:45:00'],\n",
       "  'timeEnd': ['2022-11-01T19:30:00', '2022-11-02T12:20:00']},\n",
       " {'duration': 20.75,\n",
       "  'price': '6338.07',\n",
       "  'timeStart': ['2022-11-01T12:25:00', '2022-11-02T00:05:00'],\n",
       "  'timeEnd': ['2022-11-01T20:00:00', '2022-11-02T05:10:00']},\n",
       " {'duration': 21.5,\n",
       "  'price': '6338.07',\n",
       "  'timeStart': ['2022-11-01T12:25:00', '2022-11-02T00:50:00'],\n",
       "  'timeEnd': ['2022-11-01T20:00:00', '2022-11-02T05:55:00']},\n",
       " {'duration': 35.583333333333336,\n",
       "  'price': '6338.07',\n",
       "  'timeStart': ['2022-11-01T21:35:00', '2022-11-03T00:05:00'],\n",
       "  'timeEnd': ['2022-11-02T05:10:00', '2022-11-03T05:10:00']},\n",
       " {'duration': 36.333333333333336,\n",
       "  'price': '6338.07',\n",
       "  'timeStart': ['2022-11-01T21:35:00', '2022-11-03T00:50:00'],\n",
       "  'timeEnd': ['2022-11-02T05:10:00', '2022-11-03T05:55:00']},\n",
       " {'duration': 22.083333333333332,\n",
       "  'price': '6338.07',\n",
       "  'timeStart': ['2022-11-01T21:35:00', '2022-11-02T10:35:00'],\n",
       "  'timeEnd': ['2022-11-02T05:10:00', '2022-11-02T15:40:00']},\n",
       " {'duration': 21.0,\n",
       "  'price': '6392.07',\n",
       "  'timeStart': ['2022-11-01T12:25:00', '2022-11-02T00:20:00'],\n",
       "  'timeEnd': ['2022-11-01T20:00:00', '2022-11-02T05:25:00']},\n",
       " {'duration': 35.833333333333336,\n",
       "  'price': '6392.07',\n",
       "  'timeStart': ['2022-11-01T21:35:00', '2022-11-03T00:20:00'],\n",
       "  'timeEnd': ['2022-11-02T05:10:00', '2022-11-03T05:25:00']},\n",
       " {'duration': 22.666666666666668,\n",
       "  'price': '6392.07',\n",
       "  'timeStart': ['2022-11-01T21:35:00', '2022-11-02T11:00:00'],\n",
       "  'timeEnd': ['2022-11-02T05:10:00', '2022-11-02T16:15:00']},\n",
       " {'duration': 38.166666666666664,\n",
       "  'price': '9180.65',\n",
       "  'timeStart': ['2022-11-01T21:55:00', '2022-11-02T22:35:00'],\n",
       "  'timeEnd': ['2022-11-02T05:30:00', '2022-11-03T08:05:00']}]"
      ]
     },
     "execution_count": 31,
     "metadata": {},
     "output_type": "execute_result"
    }
   ],
   "source": [
    "a = Flights(amadeus)\n",
    "a.getFlightObjects('SYD', 'BKK','2022-07-07',  3)"
   ]
  },
  {
   "cell_type": "code",
   "execution_count": 19,
   "id": "813e49e0",
   "metadata": {},
   "outputs": [
    {
     "name": "stdout",
     "output_type": "stream",
     "text": [
      "{'type': 'flight-offer', 'id': '1', 'source': 'GDS', 'instantTicketingRequired': False, 'nonHomogeneous': False, 'oneWay': False, 'lastTicketingDate': '2022-06-13', 'numberOfBookableSeats': 9, 'itineraries': [{'duration': 'PT10H', 'segments': [{'departure': {'iataCode': 'MAD', 'terminal': '2', 'at': '2022-11-01T10:20:00'}, 'arrival': {'iataCode': 'LIS', 'terminal': '1', 'at': '2022-11-01T10:40:00'}, 'carrierCode': 'TP', 'number': '1011', 'aircraft': {'code': 'E90'}, 'operating': {'carrierCode': 'NI'}, 'duration': 'PT1H20M', 'id': '1', 'numberOfStops': 0, 'blacklistedInEU': False}, {'departure': {'iataCode': 'LIS', 'terminal': '1', 'at': '2022-11-01T11:40:00'}, 'arrival': {'iataCode': 'BOS', 'terminal': 'E', 'at': '2022-11-01T15:20:00'}, 'carrierCode': 'TP', 'number': '217', 'aircraft': {'code': '32Q'}, 'operating': {'carrierCode': 'TP'}, 'duration': 'PT7H40M', 'id': '2', 'numberOfStops': 0, 'blacklistedInEU': False}]}], 'price': {'currency': 'EUR', 'total': '1187.64', 'base': '588.00', 'fees': [{'amount': '0.00', 'type': 'SUPPLIER'}, {'amount': '0.00', 'type': 'TICKETING'}], 'grandTotal': '1187.64', 'additionalServices': [{'amount': '75.00', 'type': 'CHECKED_BAGS'}]}, 'pricingOptions': {'fareType': ['PUBLISHED'], 'includedCheckedBagsOnly': False}, 'validatingAirlineCodes': ['TP'], 'travelerPricings': [{'travelerId': '1', 'fareOption': 'STANDARD', 'travelerType': 'ADULT', 'price': {'currency': 'EUR', 'total': '296.91', 'base': '147.00'}, 'fareDetailsBySegment': [{'segmentId': '1', 'cabin': 'ECONOMY', 'fareBasis': 'UESDSI0D', 'class': 'U', 'includedCheckedBags': {'quantity': 0}}, {'segmentId': '2', 'cabin': 'ECONOMY', 'fareBasis': 'UESDSI0D', 'brandedFare': 'DISCOUNT', 'class': 'U', 'includedCheckedBags': {'quantity': 0}}]}, {'travelerId': '2', 'fareOption': 'STANDARD', 'travelerType': 'ADULT', 'price': {'currency': 'EUR', 'total': '296.91', 'base': '147.00'}, 'fareDetailsBySegment': [{'segmentId': '1', 'cabin': 'ECONOMY', 'fareBasis': 'UESDSI0D', 'class': 'U', 'includedCheckedBags': {'quantity': 0}}, {'segmentId': '2', 'cabin': 'ECONOMY', 'fareBasis': 'UESDSI0D', 'brandedFare': 'DISCOUNT', 'class': 'U', 'includedCheckedBags': {'quantity': 0}}]}, {'travelerId': '3', 'fareOption': 'STANDARD', 'travelerType': 'ADULT', 'price': {'currency': 'EUR', 'total': '296.91', 'base': '147.00'}, 'fareDetailsBySegment': [{'segmentId': '1', 'cabin': 'ECONOMY', 'fareBasis': 'UESDSI0D', 'class': 'U', 'includedCheckedBags': {'quantity': 0}}, {'segmentId': '2', 'cabin': 'ECONOMY', 'fareBasis': 'UESDSI0D', 'brandedFare': 'DISCOUNT', 'class': 'U', 'includedCheckedBags': {'quantity': 0}}]}, {'travelerId': '4', 'fareOption': 'STANDARD', 'travelerType': 'ADULT', 'price': {'currency': 'EUR', 'total': '296.91', 'base': '147.00'}, 'fareDetailsBySegment': [{'segmentId': '1', 'cabin': 'ECONOMY', 'fareBasis': 'UESDSI0D', 'class': 'U', 'includedCheckedBags': {'quantity': 0}}, {'segmentId': '2', 'cabin': 'ECONOMY', 'fareBasis': 'UESDSI0D', 'brandedFare': 'DISCOUNT', 'class': 'U', 'includedCheckedBags': {'quantity': 0}}]}]}\n",
      "dict_keys(['type', 'id', 'source', 'instantTicketingRequired', 'nonHomogeneous', 'oneWay', 'lastTicketingDate', 'numberOfBookableSeats', 'itineraries', 'price', 'pricingOptions', 'validatingAirlineCodes', 'travelerPricings'])\n"
     ]
    }
   ],
   "source": [
    "print(secondResponse.data[0])\n",
    "print(secondResponse.data[0].keys())"
   ]
  },
  {
   "cell_type": "code",
   "execution_count": 27,
   "id": "76a119c4",
   "metadata": {},
   "outputs": [
    {
     "ename": "ClientError",
     "evalue": "[400]\n",
     "output_type": "error",
     "traceback": [
      "\u001b[1;31m---------------------------------------------------------------------------\u001b[0m",
      "\u001b[1;31mClientError\u001b[0m                               Traceback (most recent call last)",
      "\u001b[1;32mC:\\Users\\RONZAM~1\\AppData\\Local\\Temp/ipykernel_13836/1384932316.py\u001b[0m in \u001b[0;36m<module>\u001b[1;34m\u001b[0m\n\u001b[0;32m      1\u001b[0m \u001b[1;31m# Flight Create Orders\u001b[0m\u001b[1;33m\u001b[0m\u001b[1;33m\u001b[0m\u001b[1;33m\u001b[0m\u001b[0m\n\u001b[1;32m----> 2\u001b[1;33m \u001b[0mamadeus\u001b[0m\u001b[1;33m.\u001b[0m\u001b[0mbooking\u001b[0m\u001b[1;33m.\u001b[0m\u001b[0mflight_orders\u001b[0m\u001b[1;33m.\u001b[0m\u001b[0mpost\u001b[0m\u001b[1;33m(\u001b[0m\u001b[0msecondResponse\u001b[0m\u001b[1;33m.\u001b[0m\u001b[0mdata\u001b[0m\u001b[1;33m[\u001b[0m\u001b[1;36m0\u001b[0m\u001b[1;33m]\u001b[0m\u001b[1;33m,\u001b[0m \u001b[1;33m[\u001b[0m\u001b[1;34m'1'\u001b[0m\u001b[1;33m]\u001b[0m\u001b[1;33m)\u001b[0m\u001b[1;33m\u001b[0m\u001b[1;33m\u001b[0m\u001b[0m\n\u001b[0m",
      "\u001b[1;32mc:\\users\\ron zamir\\appdata\\local\\programs\\python\\python39\\lib\\site-packages\\amadeus\\booking\\_flight_orders.py\u001b[0m in \u001b[0;36mpost\u001b[1;34m(self, flight, travelers)\u001b[0m\n\u001b[0;32m     26\u001b[0m         body = {'data': {'type': 'flight-order', 'flightOffers': flight_offers,\n\u001b[0;32m     27\u001b[0m                          'travelers': travelers_info}}\n\u001b[1;32m---> 28\u001b[1;33m         \u001b[1;32mreturn\u001b[0m \u001b[0mself\u001b[0m\u001b[1;33m.\u001b[0m\u001b[0mclient\u001b[0m\u001b[1;33m.\u001b[0m\u001b[0mpost\u001b[0m\u001b[1;33m(\u001b[0m\u001b[1;34m'/v1/booking/flight-orders'\u001b[0m\u001b[1;33m,\u001b[0m \u001b[0mbody\u001b[0m\u001b[1;33m)\u001b[0m\u001b[1;33m\u001b[0m\u001b[1;33m\u001b[0m\u001b[0m\n\u001b[0m",
      "\u001b[1;32mc:\\users\\ron zamir\\appdata\\local\\programs\\python\\python39\\lib\\site-packages\\amadeus\\mixins\\http.py\u001b[0m in \u001b[0;36mpost\u001b[1;34m(self, path, params)\u001b[0m\n\u001b[0;32m     61\u001b[0m         \u001b[1;33m:\u001b[0m\u001b[0mraises\u001b[0m \u001b[0mamadeus\u001b[0m\u001b[1;33m.\u001b[0m\u001b[0mResponseError\u001b[0m\u001b[1;33m:\u001b[0m \u001b[0mwhen\u001b[0m \u001b[0mthe\u001b[0m \u001b[0mrequest\u001b[0m \u001b[0mfails\u001b[0m\u001b[1;33m\u001b[0m\u001b[1;33m\u001b[0m\u001b[0m\n\u001b[0;32m     62\u001b[0m         '''\n\u001b[1;32m---> 63\u001b[1;33m         \u001b[1;32mreturn\u001b[0m \u001b[0mself\u001b[0m\u001b[1;33m.\u001b[0m\u001b[0mrequest\u001b[0m\u001b[1;33m(\u001b[0m\u001b[1;34m'POST'\u001b[0m\u001b[1;33m,\u001b[0m \u001b[0mpath\u001b[0m\u001b[1;33m,\u001b[0m \u001b[0mparams\u001b[0m\u001b[1;33m)\u001b[0m\u001b[1;33m\u001b[0m\u001b[1;33m\u001b[0m\u001b[0m\n\u001b[0m\u001b[0;32m     64\u001b[0m \u001b[1;33m\u001b[0m\u001b[0m\n\u001b[0;32m     65\u001b[0m     \u001b[1;32mdef\u001b[0m \u001b[0mdelete\u001b[0m\u001b[1;33m(\u001b[0m\u001b[0mself\u001b[0m\u001b[1;33m,\u001b[0m \u001b[0mpath\u001b[0m\u001b[1;33m,\u001b[0m \u001b[1;33m**\u001b[0m\u001b[0mparams\u001b[0m\u001b[1;33m)\u001b[0m\u001b[1;33m:\u001b[0m\u001b[1;33m\u001b[0m\u001b[1;33m\u001b[0m\u001b[0m\n",
      "\u001b[1;32mc:\\users\\ron zamir\\appdata\\local\\programs\\python\\python39\\lib\\site-packages\\amadeus\\mixins\\http.py\u001b[0m in \u001b[0;36mrequest\u001b[1;34m(self, verb, path, params)\u001b[0m\n\u001b[0;32m    108\u001b[0m         \u001b[1;33m:\u001b[0m\u001b[0mraises\u001b[0m \u001b[0mamadeus\u001b[0m\u001b[1;33m.\u001b[0m\u001b[0mResponseError\u001b[0m\u001b[1;33m:\u001b[0m \u001b[0mwhen\u001b[0m \u001b[0mthe\u001b[0m \u001b[0mrequest\u001b[0m \u001b[0mfails\u001b[0m\u001b[1;33m\u001b[0m\u001b[1;33m\u001b[0m\u001b[0m\n\u001b[0;32m    109\u001b[0m         '''\n\u001b[1;32m--> 110\u001b[1;33m         return self._unauthenticated_request(\n\u001b[0m\u001b[0;32m    111\u001b[0m             \u001b[0mverb\u001b[0m\u001b[1;33m,\u001b[0m \u001b[0mpath\u001b[0m\u001b[1;33m,\u001b[0m \u001b[0mparams\u001b[0m\u001b[1;33m,\u001b[0m\u001b[1;33m\u001b[0m\u001b[1;33m\u001b[0m\u001b[0m\n\u001b[0;32m    112\u001b[0m             \u001b[0mself\u001b[0m\u001b[1;33m.\u001b[0m\u001b[0m__access_token\u001b[0m\u001b[1;33m(\u001b[0m\u001b[1;33m)\u001b[0m\u001b[1;33m.\u001b[0m\u001b[0m_bearer_token\u001b[0m\u001b[1;33m(\u001b[0m\u001b[1;33m)\u001b[0m\u001b[1;33m\u001b[0m\u001b[1;33m\u001b[0m\u001b[0m\n",
      "\u001b[1;32mc:\\users\\ron zamir\\appdata\\local\\programs\\python\\python39\\lib\\site-packages\\amadeus\\mixins\\http.py\u001b[0m in \u001b[0;36m_unauthenticated_request\u001b[1;34m(self, verb, path, params, bearer_token)\u001b[0m\n\u001b[0;32m    124\u001b[0m         \u001b[0mrequest\u001b[0m \u001b[1;33m=\u001b[0m \u001b[0mself\u001b[0m\u001b[1;33m.\u001b[0m\u001b[0m__build_request\u001b[0m\u001b[1;33m(\u001b[0m\u001b[0mverb\u001b[0m\u001b[1;33m,\u001b[0m \u001b[0mpath\u001b[0m\u001b[1;33m,\u001b[0m \u001b[0mparams\u001b[0m\u001b[1;33m,\u001b[0m \u001b[0mbearer_token\u001b[0m\u001b[1;33m)\u001b[0m\u001b[1;33m\u001b[0m\u001b[1;33m\u001b[0m\u001b[0m\n\u001b[0;32m    125\u001b[0m         \u001b[0mself\u001b[0m\u001b[1;33m.\u001b[0m\u001b[0m__log\u001b[0m\u001b[1;33m(\u001b[0m\u001b[0mrequest\u001b[0m\u001b[1;33m)\u001b[0m\u001b[1;33m\u001b[0m\u001b[1;33m\u001b[0m\u001b[0m\n\u001b[1;32m--> 126\u001b[1;33m         \u001b[1;32mreturn\u001b[0m \u001b[0mself\u001b[0m\u001b[1;33m.\u001b[0m\u001b[0m__execute\u001b[0m\u001b[1;33m(\u001b[0m\u001b[0mrequest\u001b[0m\u001b[1;33m)\u001b[0m\u001b[1;33m\u001b[0m\u001b[1;33m\u001b[0m\u001b[0m\n\u001b[0m\u001b[0;32m    127\u001b[0m \u001b[1;33m\u001b[0m\u001b[0m\n\u001b[0;32m    128\u001b[0m     \u001b[1;31m# PRIVATE\u001b[0m\u001b[1;33m\u001b[0m\u001b[1;33m\u001b[0m\u001b[1;33m\u001b[0m\u001b[0m\n",
      "\u001b[1;32mc:\\users\\ron zamir\\appdata\\local\\programs\\python\\python39\\lib\\site-packages\\amadeus\\mixins\\http.py\u001b[0m in \u001b[0;36m__execute\u001b[1;34m(self, request)\u001b[0m\n\u001b[0;32m    150\u001b[0m         \u001b[0mresponse\u001b[0m \u001b[1;33m=\u001b[0m \u001b[0mResponse\u001b[0m\u001b[1;33m(\u001b[0m\u001b[0mhttp_response\u001b[0m\u001b[1;33m,\u001b[0m \u001b[0mrequest\u001b[0m\u001b[1;33m)\u001b[0m\u001b[1;33m.\u001b[0m\u001b[0m_parse\u001b[0m\u001b[1;33m(\u001b[0m\u001b[0mself\u001b[0m\u001b[1;33m)\u001b[0m\u001b[1;33m\u001b[0m\u001b[1;33m\u001b[0m\u001b[0m\n\u001b[0;32m    151\u001b[0m         \u001b[0mself\u001b[0m\u001b[1;33m.\u001b[0m\u001b[0m__log\u001b[0m\u001b[1;33m(\u001b[0m\u001b[0mresponse\u001b[0m\u001b[1;33m)\u001b[0m\u001b[1;33m\u001b[0m\u001b[1;33m\u001b[0m\u001b[0m\n\u001b[1;32m--> 152\u001b[1;33m         \u001b[0mresponse\u001b[0m\u001b[1;33m.\u001b[0m\u001b[0m_detect_error\u001b[0m\u001b[1;33m(\u001b[0m\u001b[0mself\u001b[0m\u001b[1;33m)\u001b[0m\u001b[1;33m\u001b[0m\u001b[1;33m\u001b[0m\u001b[0m\n\u001b[0m\u001b[0;32m    153\u001b[0m         \u001b[1;32mreturn\u001b[0m \u001b[0mresponse\u001b[0m\u001b[1;33m\u001b[0m\u001b[1;33m\u001b[0m\u001b[0m\n\u001b[0;32m    154\u001b[0m \u001b[1;33m\u001b[0m\u001b[0m\n",
      "\u001b[1;32mc:\\users\\ron zamir\\appdata\\local\\programs\\python\\python39\\lib\\site-packages\\amadeus\\mixins\\parser.py\u001b[0m in \u001b[0;36m_detect_error\u001b[1;34m(self, client)\u001b[0m\n\u001b[0;32m     14\u001b[0m         \u001b[0merror\u001b[0m \u001b[1;33m=\u001b[0m \u001b[0mself\u001b[0m\u001b[1;33m.\u001b[0m\u001b[0merror_for\u001b[0m\u001b[1;33m(\u001b[0m\u001b[0mself\u001b[0m\u001b[1;33m.\u001b[0m\u001b[0mstatus_code\u001b[0m\u001b[1;33m,\u001b[0m \u001b[0mself\u001b[0m\u001b[1;33m.\u001b[0m\u001b[0mparsed\u001b[0m\u001b[1;33m)\u001b[0m\u001b[1;33m\u001b[0m\u001b[1;33m\u001b[0m\u001b[0m\n\u001b[0;32m     15\u001b[0m         \u001b[1;32mif\u001b[0m \u001b[0merror\u001b[0m \u001b[1;32mis\u001b[0m \u001b[1;32mnot\u001b[0m \u001b[1;32mNone\u001b[0m\u001b[1;33m:\u001b[0m\u001b[1;33m\u001b[0m\u001b[1;33m\u001b[0m\u001b[0m\n\u001b[1;32m---> 16\u001b[1;33m             \u001b[0mself\u001b[0m\u001b[1;33m.\u001b[0m\u001b[0m__raise_error\u001b[0m\u001b[1;33m(\u001b[0m\u001b[0merror\u001b[0m\u001b[1;33m,\u001b[0m \u001b[0mclient\u001b[0m\u001b[1;33m)\u001b[0m\u001b[1;33m\u001b[0m\u001b[1;33m\u001b[0m\u001b[0m\n\u001b[0m\u001b[0;32m     17\u001b[0m \u001b[1;33m\u001b[0m\u001b[0m\n\u001b[0;32m     18\u001b[0m     \u001b[1;32mdef\u001b[0m \u001b[0merror_for\u001b[0m\u001b[1;33m(\u001b[0m\u001b[0mself\u001b[0m\u001b[1;33m,\u001b[0m \u001b[0mstatus_code\u001b[0m\u001b[1;33m,\u001b[0m \u001b[0mparsed\u001b[0m\u001b[1;33m)\u001b[0m\u001b[1;33m:\u001b[0m  \u001b[1;31m# noqa: C901\u001b[0m\u001b[1;33m\u001b[0m\u001b[1;33m\u001b[0m\u001b[0m\n",
      "\u001b[1;32mc:\\users\\ron zamir\\appdata\\local\\programs\\python\\python39\\lib\\site-packages\\amadeus\\mixins\\parser.py\u001b[0m in \u001b[0;36m__raise_error\u001b[1;34m(self, error_class, client)\u001b[0m\n\u001b[0;32m     65\u001b[0m         \u001b[0merror\u001b[0m \u001b[1;33m=\u001b[0m \u001b[0merror_class\u001b[0m\u001b[1;33m(\u001b[0m\u001b[0mself\u001b[0m\u001b[1;33m)\u001b[0m\u001b[1;33m\u001b[0m\u001b[1;33m\u001b[0m\u001b[0m\n\u001b[0;32m     66\u001b[0m         \u001b[0merror\u001b[0m\u001b[1;33m.\u001b[0m\u001b[0m_log\u001b[0m\u001b[1;33m(\u001b[0m\u001b[0mclient\u001b[0m\u001b[1;33m)\u001b[0m\u001b[1;33m\u001b[0m\u001b[1;33m\u001b[0m\u001b[0m\n\u001b[1;32m---> 67\u001b[1;33m         \u001b[1;32mraise\u001b[0m \u001b[0merror\u001b[0m\u001b[1;33m\u001b[0m\u001b[1;33m\u001b[0m\u001b[0m\n\u001b[0m\u001b[0;32m     68\u001b[0m \u001b[1;33m\u001b[0m\u001b[0m\n\u001b[0;32m     69\u001b[0m     \u001b[1;32mdef\u001b[0m \u001b[0m__parse_headers\u001b[0m\u001b[1;33m(\u001b[0m\u001b[0mself\u001b[0m\u001b[1;33m,\u001b[0m \u001b[0mhttp_response\u001b[0m\u001b[1;33m,\u001b[0m \u001b[0mclient\u001b[0m\u001b[1;33m)\u001b[0m\u001b[1;33m:\u001b[0m\u001b[1;33m\u001b[0m\u001b[1;33m\u001b[0m\u001b[0m\n",
      "\u001b[1;31mClientError\u001b[0m: [400]\n"
     ]
    }
   ],
   "source": [
    "# Flight Create Orders\n",
    "amadeus.booking.flight_orders.post(secondResponse.data[0], ['1'])"
   ]
  },
  {
   "cell_type": "code",
   "execution_count": null,
   "id": "92264992",
   "metadata": {},
   "outputs": [],
   "source": [
    "print(\"DONE\")\n",
    "# Flight Order Management\n",
    "# The flight ID comes from the Flight Create Orders (in test environment it's temporary)\n",
    "# Retrieve the order based on it's ID\n",
    "flight_booking = amadeus.booking.flight_orders.post(body).data\n",
    "amadeus.booking.flight_order(flight_booking['id']).get()\n",
    "# Delete the order based on it's ID\n",
    "amadeus.booking.flight_order(flight_booking['id']).delete()"
   ]
  },
  {
   "cell_type": "code",
   "execution_count": null,
   "id": "6cd4c412",
   "metadata": {},
   "outputs": [],
   "source": [
    "class Transport:\n",
    "    def __init__(self):\n",
    "        self.duration = int(0)\n",
    "        self.cost = int(0)\n",
    "        self.timeStart = datetime.now()\n",
    "        self.timeEnd = datetime.now()\n",
    "        self.title = str(\"\")\n",
    "        self.googleMapsLink = str(\"\")\n",
    "        self.googleMapsImageLink = str(\"\")\n",
    "        self.orderInAdvance = bool(False)\n",
    "        self.placeOfOrigin = str(\"\")\n",
    "        self.methodOfTransportation =  Transportation.NONE\n",
    "        self.destination = str(\"\")"
   ]
  },
  {
   "cell_type": "code",
   "execution_count": 51,
   "id": "0e3df630",
   "metadata": {
    "scrolled": true
   },
   "outputs": [
    {
     "name": "stdout",
     "output_type": "stream",
     "text": [
      "{'duration': 'PT28H53M', 'segments': [{'departure': {'iataCode': 'MAD', 'terminal': '2', 'at': '2022-07-07T13:35:00'}, 'arrival': {'iataCode': 'LIS', 'terminal': '1', 'at': '2022-07-07T13:55:00'}, 'carrierCode': 'TP', 'number': '1027', 'aircraft': {'code': '319'}, 'operating': {'carrierCode': 'TP'}, 'duration': 'PT1H20M', 'id': '208', 'numberOfStops': 0, 'blacklistedInEU': False}, {'departure': {'iataCode': 'LIS', 'terminal': '1', 'at': '2022-07-07T18:15:00'}, 'arrival': {'iataCode': 'EWR', 'terminal': 'B', 'at': '2022-07-07T21:30:00'}, 'carrierCode': 'TP', 'number': '207', 'aircraft': {'code': '32Q'}, 'operating': {'carrierCode': 'TP'}, 'duration': 'PT8H15M', 'id': '209', 'numberOfStops': 0, 'blacklistedInEU': False}, {'departure': {'iataCode': 'JFK', 'terminal': '5', 'at': '2022-07-08T11:12:00'}, 'arrival': {'iataCode': 'BOS', 'terminal': 'C', 'at': '2022-07-08T12:28:00'}, 'carrierCode': 'TP', 'number': '4468', 'aircraft': {'code': 'E90'}, 'operating': {'carrierCode': 'B6'}, 'duration': 'PT1H16M', 'id': '210', 'numberOfStops': 0, 'blacklistedInEU': False}]}\n",
      "2022-07-07T13:35:00\n",
      "2022-07-07T18:15:00\n",
      "2022-07-08T11:12:00\n"
     ]
    }
   ],
   "source": [
    "import datetime\n",
    "flightList = []\n",
    "itineraries = secondResponse.data[3]['itineraries']\n",
    "#print(itineraries[0])\n",
    "for i in itineraries[0]['segments']:\n",
    "    print(i)\n",
    "    print(i['departure']['at'])\n",
    "    timeStart = datetime.datetime.strptime(i['departure']['at'], '%Y-%d-%mT%H:%M:%S')\n",
    "    timeEnd = datetime.datetime.strptime(i['arrival']['at'], '%Y-%d-%mT%H:%M:%S')\n",
    "    flightCode = i['carrierCode'] + i['number']\n",
    "    duration ="
   ]
  },
  {
   "cell_type": "code",
   "execution_count": null,
   "id": "65c2ddb5",
   "metadata": {},
   "outputs": [],
   "source": []
  }
 ],
 "metadata": {
  "kernelspec": {
   "display_name": "Python 3",
   "language": "python",
   "name": "python3"
  },
  "language_info": {
   "codemirror_mode": {
    "name": "ipython",
    "version": 3
   },
   "file_extension": ".py",
   "mimetype": "text/x-python",
   "name": "python",
   "nbconvert_exporter": "python",
   "pygments_lexer": "ipython3",
   "version": "3.9.1"
  }
 },
 "nbformat": 4,
 "nbformat_minor": 5
}
